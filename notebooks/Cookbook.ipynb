{
 "cells": [
  {
   "cell_type": "markdown",
   "metadata": {},
   "source": [
    "# The AdoptODE Cookbook\n",
    "## 0. Install AdoptODE and JAX\n",
    "\n",
    "Make sure JAX and if you want to use GPUs a supported CUDA driver is installed, as well as AdoptODE and its dependencies. An installation guide is provided in the git-repository, https://gitlab.gwdg.de/sherzog3/adoptODE.git."
   ]
  },
  {
   "cell_type": "markdown",
   "metadata": {},
   "source": [
    "## 1. Define your System\n",
    "Our example system is $\\frac{d}{dt} pop=a\\cdot pop + b$, where $pop$ is some scalar population and $a$ and $b$ are the parameters we want to find. We assume the initial population, $a$ and $b$ to be bounded below by zero and above by some maximum specified in $\\texttt{kwargs\\_sys}$."
   ]
  },
  {
   "cell_type": "code",
   "execution_count": 1,
   "metadata": {},
   "outputs": [],
   "source": [
    "import numpy as np\n",
    "import jax.numpy as jnp\n",
    "from jax import jit\n",
    "def define_system(**kwargs_sys):\n",
    "    p_max = kwargs_sys['p_max']\n",
    "    a_max = kwargs_sys['a_max']\n",
    "    b_max = kwargs_sys['b_max']\n",
    "    \n",
    "    def gen_y0():\n",
    "        ini_pop = np.random.rand()*p_max\n",
    "        return {'population':ini_pop}\n",
    "    \n",
    "    def gen_params():\n",
    "        a = np.random.rand()*a_max\n",
    "        b = np.random.rand()*b_max\n",
    "        return {'a':a, 'b':b}, {}, {}\n",
    "        \n",
    "    @jit\n",
    "    def eom(y, t, params, iparams, exparams):\n",
    "        pop = y['population']\n",
    "        a, b = params['a'], params['b']\n",
    "        return {'population':a*pop+b}\n",
    "\n",
    "    @jit\n",
    "    def loss(ys, params, iparams, \n",
    "                    exparams, targets):\n",
    "        pop = ys['population']\n",
    "        t_pop = targets['population']\n",
    "        return jnp.mean((pop-t_pop)**2)\n",
    "\n",
    "    return eom, loss, gen_params, gen_y0, {}"
   ]
  },
  {
   "cell_type": "markdown",
   "metadata": {},
   "source": [
    "The second and third dictionary of $\\texttt{gen\\_params}$ are $\\texttt{iparams}$ and $\\texttt{exparams}$ we do not have in this simple example. The first two functions can be arbitrary, the $\\texttt{eom}$ and $\\texttt{loss}$ functions have to be implemented using the jax libraries."
   ]
  },
  {
   "cell_type": "markdown",
   "metadata": {},
   "source": [
    "## 2. Set up a simulation\n",
    "To set up a simulation we define the dictionaries $\\texttt{kwargs\\_sys}$ and $\\texttt{kwargs\\_NODE}$ as well as the times $\\texttt{t\\_evals}$ at which we assume to observe our system. The keyword $\\texttt{N\\_sys}$ gives the number of copies in terms of multi-experiment fitting, here we consider only one system."
   ]
  },
  {
   "cell_type": "code",
   "execution_count": 2,
   "metadata": {},
   "outputs": [
    {
     "name": "stderr",
     "output_type": "stream",
     "text": [
      "An NVIDIA GPU may be present on this machine, but a CUDA-enabled jaxlib is not installed. Falling back to cpu.\n"
     ]
    }
   ],
   "source": [
    "from adoptODE import simple_simulation, train_adoptODE\n",
    "kwargs_sys = {'p_max': 2,\n",
    "              'a_max': 1,\n",
    "              'b_max': 3,\n",
    "              'N_sys': 1}\n",
    "kwargs_adoptODE = {'lr':3e-2, 'epochs':200}\n",
    "t_evals = np.linspace(0,5,10)\n",
    "dataset = simple_simulation(define_system,\n",
    "                                t_evals,\n",
    "                                kwargs_sys,\n",
    "                                kwargs_adoptODE)"
   ]
  },
  {
   "cell_type": "markdown",
   "metadata": {},
   "source": [
    "In real-life applications, these simulations not only help as an easy test environment, but also to test the reliability of parameter recovery! The simulation automatically generated some parameters, and also a (wrong) initial guess for the parameter recovery, both based on the previously define $\\texttt{gen\\_params}$ function:"
   ]
  },
  {
   "cell_type": "code",
   "execution_count": 3,
   "metadata": {},
   "outputs": [
    {
     "name": "stdout",
     "output_type": "stream",
     "text": [
      "The true parameters used to generate the data:  {'a': 0.8683463889134698, 'b': 0.3448656189148058}\n",
      "The inial gues of parameters for the recovery:  {'a': 0.7324235064410349, 'b': 1.935051710240188}\n"
     ]
    }
   ],
   "source": [
    "print('The true parameters used to generate the data: ', dataset.params)\n",
    "print('The inial gues of parameters for the recovery: ', dataset.params_train )"
   ]
  },
  {
   "cell_type": "markdown",
   "metadata": {},
   "source": []
  },
  {
   "cell_type": "markdown",
   "metadata": {},
   "source": [
    "## 3. Train a simulation\n",
    "The easy following command trains our simulation and prints the true params in comparison to the found ones:"
   ]
  },
  {
   "cell_type": "code",
   "execution_count": 4,
   "metadata": {},
   "outputs": [
    {
     "name": "stdout",
     "output_type": "stream",
     "text": [
      "Epoch 000:  Loss: 4.6e+02,  Params Err.: 1.6e+00, y0 error: 0.0e+00, Params Norm: 2.1e+00, iParams Err.: 0.0e+00, iParams Norm: 0.0e+00, \n",
      "Epoch 020:  Loss: 1.7e+01,  Params Err.: 1.4e+00, y0 error: 0.0e+00, Params Norm: 1.9e+00, iParams Err.: 0.0e+00, iParams Norm: 0.0e+00, \n",
      "Epoch 040:  Loss: 1.1e+01,  Params Err.: 1.1e+00, y0 error: 0.0e+00, Params Norm: 1.6e+00, iParams Err.: 0.0e+00, iParams Norm: 0.0e+00, \n",
      "Epoch 060:  Loss: 4.8e+00,  Params Err.: 6.8e-01, y0 error: 0.0e+00, Params Norm: 1.2e+00, iParams Err.: 0.0e+00, iParams Norm: 0.0e+00, \n",
      "Epoch 080:  Loss: 2.0e+00,  Params Err.: 3.9e-01, y0 error: 0.0e+00, Params Norm: 1.1e+00, iParams Err.: 0.0e+00, iParams Norm: 0.0e+00, \n",
      "Epoch 100:  Loss: 9.8e-01,  Params Err.: 2.5e-01, y0 error: 0.0e+00, Params Norm: 1.0e+00, iParams Err.: 0.0e+00, iParams Norm: 0.0e+00, \n",
      "Epoch 120:  Loss: 5.5e-01,  Params Err.: 1.5e-01, y0 error: 0.0e+00, Params Norm: 9.7e-01, iParams Err.: 0.0e+00, iParams Norm: 0.0e+00, \n",
      "Epoch 140:  Loss: 2.8e-01,  Params Err.: 9.7e-02, y0 error: 0.0e+00, Params Norm: 9.5e-01, iParams Err.: 0.0e+00, iParams Norm: 0.0e+00, \n",
      "Epoch 160:  Loss: 2.1e-01,  Params Err.: 6.5e-02, y0 error: 0.0e+00, Params Norm: 9.5e-01, iParams Err.: 0.0e+00, iParams Norm: 0.0e+00, \n",
      "Epoch 180:  Loss: 4.9e-01,  Params Err.: 4.5e-02, y0 error: 0.0e+00, Params Norm: 9.5e-01, iParams Err.: 0.0e+00, iParams Norm: 0.0e+00, \n",
      "Epoch 199:  Loss: 6.0e-02,  Params Err.: 2.8e-02, y0 error: 0.0e+00, Params Norm: 9.4e-01, iParams Err.: 0.0e+00, iParams Norm: 0.0e+00, \n",
      "True params:  {'a': 0.8683463889134698, 'b': 0.3448656189148058}\n",
      "Found params:  {'a': Array(0.86392146, dtype=float32), 'b': Array(0.3748873, dtype=float32)}\n"
     ]
    }
   ],
   "source": [
    "_ = train_adoptODE(dataset)\n",
    "print('True params: ', dataset.params)\n",
    "print('Found params: ', dataset.params_train)"
   ]
  },
  {
   "cell_type": "markdown",
   "metadata": {},
   "source": [
    "For more accurate results, try to manipulate the learing rate or the number of epochs!"
   ]
  },
  {
   "cell_type": "markdown",
   "metadata": {},
   "source": [
    "## 4. Including Data\n",
    "To include data, we bring it in the same form as the shape of the state given by $\\texttt{gen\\_y0()}$, but with two additional leading axes. The first counts the different experiments, and has length one here, the second runs over time points and has the same length as $\\texttt{t\\_evals}$."
   ]
  },
  {
   "cell_type": "markdown",
   "metadata": {},
   "source": [
    "Training can now be performed as before, with the difference that no error of the parameters can be given as the original parameters are unknown:"
   ]
  },
  {
   "cell_type": "code",
   "execution_count": 47,
   "metadata": {},
   "outputs": [],
   "source": [
    "from adoptODE import dataset_adoptODE\n",
    "data = np.array([ 0.86, 1.66, 2.56, 3.59, 4.75, 6.08, 7.58, 9.28, 11.21, 13.40]) # Observation of population, shape (10,)\n",
    "targets = {'population':data.reshape((1,10))}\n",
    "dataset2 = dataset_adoptODE(define_system,\n",
    "                                targets,\n",
    "                                t_evals,\n",
    "                                kwargs_sys,\n",
    "                                kwargs_adoptODE)"
   ]
  },
  {
   "cell_type": "markdown",
   "metadata": {},
   "source": []
  },
  {
   "cell_type": "code",
   "execution_count": 48,
   "metadata": {},
   "outputs": [
    {
     "name": "stdout",
     "output_type": "stream",
     "text": [
      "Epoch 000:  Loss: 1.9e+02,  Params Err.: nan, y0 error: nan, Params Norm: 1.6e+00, iParams Err.: 0.0e+00, iParams Norm: 0.0e+00, \n",
      "Epoch 020:  Loss: 1.0e-01,  Params Err.: nan, y0 error: nan, Params Norm: 1.2e+00, iParams Err.: 0.0e+00, iParams Norm: 0.0e+00, \n",
      "Epoch 040:  Loss: 1.1e-03,  Params Err.: nan, y0 error: nan, Params Norm: 1.2e+00, iParams Err.: 0.0e+00, iParams Norm: 0.0e+00, \n",
      "Epoch 060:  Loss: 1.1e-03,  Params Err.: nan, y0 error: nan, Params Norm: 1.2e+00, iParams Err.: 0.0e+00, iParams Norm: 0.0e+00, \n",
      "Epoch 080:  Loss: 3.9e-03,  Params Err.: nan, y0 error: nan, Params Norm: 1.2e+00, iParams Err.: 0.0e+00, iParams Norm: 0.0e+00, \n",
      "Epoch 100:  Loss: 9.6e-03,  Params Err.: nan, y0 error: nan, Params Norm: 1.2e+00, iParams Err.: 0.0e+00, iParams Norm: 0.0e+00, \n",
      "Epoch 120:  Loss: 1.9e-03,  Params Err.: nan, y0 error: nan, Params Norm: 1.2e+00, iParams Err.: 0.0e+00, iParams Norm: 0.0e+00, \n",
      "Epoch 140:  Loss: 9.8e-03,  Params Err.: nan, y0 error: nan, Params Norm: 1.2e+00, iParams Err.: 0.0e+00, iParams Norm: 0.0e+00, \n",
      "Epoch 160:  Loss: 3.5e-03,  Params Err.: nan, y0 error: nan, Params Norm: 1.2e+00, iParams Err.: 0.0e+00, iParams Norm: 0.0e+00, \n",
      "Epoch 180:  Loss: 1.2e-03,  Params Err.: nan, y0 error: nan, Params Norm: 1.2e+00, iParams Err.: 0.0e+00, iParams Norm: 0.0e+00, \n",
      "Epoch 199:  Loss: 2.5e-02,  Params Err.: nan, y0 error: nan, Params Norm: 1.2e+00, iParams Err.: 0.0e+00, iParams Norm: 0.0e+00, \n",
      "Found params:  {'a': Array(0.2232338, dtype=float32), 'b': Array(1.1503189, dtype=float32)}\n"
     ]
    }
   ],
   "source": [
    "_ = train_adoptODE(dataset2)\n",
    "print('Found params: ', dataset2.params_train)"
   ]
  },
  {
   "cell_type": "markdown",
   "metadata": {},
   "source": [
    "We hope this notebook provides a helpful starting point. A number of more advanced notebooks, showing the implementation of the problems discussed in the paper (DOI) are available in the git repository!"
   ]
  }
 ],
 "metadata": {
  "kernelspec": {
   "display_name": "Jax23",
   "language": "python",
   "name": "python3"
  },
  "language_info": {
   "codemirror_mode": {
    "name": "ipython",
    "version": 3
   },
   "file_extension": ".py",
   "mimetype": "text/x-python",
   "name": "python",
   "nbconvert_exporter": "python",
   "pygments_lexer": "ipython3",
   "version": "3.9.13"
  }
 },
 "nbformat": 4,
 "nbformat_minor": 2
}
