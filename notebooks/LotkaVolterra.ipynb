{
    "cells": [
        {
            "attachments": {},
            "cell_type": "markdown",
            "metadata": {},
            "source": [
                "# Lotka-Volterra Model for Population Development\n",
                "The Lotka-Volterra Model describes the population development of two species, the prey which are hunted by the predators."
            ]
        },
        {
            "cell_type": "code",
            "execution_count": 1,
            "metadata": {},
            "outputs": [],
            "source": [
                "# Because this very small model doesn't profit from parallelization on GPU's, it can be faster to run it on CPU instead.\n",
                "import jax\n",
                "jax.config.update('jax_platform_name', 'cpu')"
            ]
        },
        {
            "cell_type": "code",
            "execution_count": 2,
            "metadata": {},
            "outputs": [],
            "source": [
                "import jax.numpy as jnp\n",
                "from jax import jit\n",
                "from jax.flatten_util import ravel_pytree\n",
                "import numpy as np\n",
                "from adoptODE import train_adoptODE, simple_simulation\n",
                "import matplotlib.pyplot as plt"
            ]
        },
        {
            "attachments": {},
            "cell_type": "markdown",
            "metadata": {},
            "source": [
                "#### Defining the equation of motion for Lotka Volterra dynamics\n",
                "Here, we define the parameters as iparams (individual params) instead of params. That way, when multiple systems are simulated, each is fitted its own set of parameters instead of a universal set of parameters for all simulated systems. This is used to generate the statistics displayed in the article.\n",
                "The pure sytem has for parameters, $\\alpha,\\beta,\\gamma$ and $\\delta$. Two additional terms with parameters $c_1$ and $c_2$ are added to the dynamics. For the creation of trajectories, these are always set to zero, but the recovery just knows them as regular parameters and has to figure out that the respectie terms are not contributing to the observed dynamics."
            ]
        },
        {
            "cell_type": "code",
            "execution_count": 3,
            "metadata": {},
            "outputs": [],
            "source": [
                "def define_LV(**kwargs_sys):\n",
                "    N_sys = kwargs_sys['N_sys']\n",
                "    @jit\n",
                "    def eom(y, t, params, iparams, exparams):\n",
                "        dprey = iparams['alpha']*y['prey'] - iparams['beta']*y['prey']*y['predators'] - iparams['cprey']*y['prey']**2 #The last terms here are added atop pure LV dynamics\n",
                "        dpred = iparams['delta']*y['prey']*y['predators'] - iparams['gamma']*y['predators']- iparams['cpredators']*y['predators']**2\n",
                "        return {'prey':dprey, 'predators':dpred}\n",
                "\n",
                "    @jit\n",
                "    def loss(ys, params, iparams, exparams, targets):\n",
                "        flat_fit = ravel_pytree(ys)[0]\n",
                "        flat_target = ravel_pytree(targets)[0]\n",
                "        return jnp.nanmean((flat_fit-flat_target)**2)\n",
                "\n",
                "\n",
                "    def gen_params(): # Generate parameters for simulating trajectories, hence the pure model without the added terms, therefore c_1 = c_2 = 0\n",
                "        a = 0.1+0.9*np.random.rand(N_sys)\n",
                "        b = 0.1+0.9*np.random.rand(N_sys)\n",
                "        c = 0.1+0.9*np.random.rand(N_sys)\n",
                "        d = 0.1+0.9*np.random.rand(N_sys)\n",
                "        iparams = {'alpha':a, 'beta':b, 'gamma':c, 'delta':d, 'cprey':np.zeros(N_sys, dtype=float), 'cpredators':np.zeros(N_sys, dtype=float)}\n",
                "        return {}, iparams, {}\n",
                "\n",
                "    def gen_y0():\n",
                "        prey = 0.1+0.9*np.random.rand()\n",
                "        pred = 0.1+0.9*np.random.rand()\n",
                "        return {'prey':prey, 'predators':pred}\n",
                "\n",
                "\n",
                "    return eom, loss, gen_params, gen_y0, {}"
            ]
        },
        {
            "cell_type": "code",
            "execution_count": 4,
            "metadata": {},
            "outputs": [],
            "source": [
                "# Setting up system and training properties\n",
                "kwargs_sys = {'N_sys':1}\n",
                "t_evals=jnp.linspace(0,40,200)\n",
                "reset_every = 20\n",
                "t_reset_idcs = tuple([reset_every*i for i in range(int(np.ceil((len(t_evals)-1)/reset_every)))])\n",
                "iparams_guess = {'alpha':np.zeros(1), 'beta':np.zeros(1), 'gamma':np.zeros(1), 'delta':np.zeros(1), 'cprey':np.zeros(1), 'cpredators':np.zeros(1)}\n",
                "lower_bound_ip = {'alpha':0., 'beta':0., 'gamma':0., 'delta':0., 'cprey':-jnp.inf, 'cpredators':-jnp.inf}\n",
                "lower_bound_y0 = {'prey':0., 'predators':0.}\n",
                "kwargs_adoptODE = {'epochs':4000, \n",
                "               'lr':0,\n",
                "               'lr_ip':1e-2, \n",
                "               't_reset_idcs':t_reset_idcs, \n",
                "               'lr_y0':3e-3, \n",
                "               'lower_b_ip':lower_bound_ip, \n",
                "               'lower_b_y0':lower_bound_y0, \n",
                "               'lr_decay_ip':0.9994, \n",
                "               'lr_decay_y0':0.9994}\n",
                "\n",
                "# Generating dataset via simulation\n",
                "dataset = simple_simulation(define_LV, t_evals, kwargs_sys, kwargs_adoptODE, iparams_train=iparams_guess, rel_noise=0.01)"
            ]
        },
        {
            "cell_type": "code",
            "execution_count": 5,
            "metadata": {},
            "outputs": [
                {
                    "name": "stdout",
                    "output_type": "stream",
                    "text": [
                        "Epoch 000:   Params Err.: 0.0e+00, y0 error: 1.7e-01, Params Norm: 0.0e+00, iParams Err.: 1.3e+00, iParams Norm: 0.0e+00, Stopped/Resetted Loss: 1.2e+02, \n",
                        "Epoch 400:   Params Err.: 0.0e+00, y0 error: 8.2e-01, Params Norm: 0.0e+00, iParams Err.: 2.2e-01, iParams Norm: 1.1e+00, Stopped/Resetted Loss: 1.0e-01, \n",
                        "Epoch 800:   Params Err.: 0.0e+00, y0 error: 6.1e-01, Params Norm: 0.0e+00, iParams Err.: 2.0e-01, iParams Norm: 1.1e+00, Stopped/Resetted Loss: 1.7e-02, \n",
                        "Epoch 1200:   Params Err.: 0.0e+00, y0 error: 5.4e-01, Params Norm: 0.0e+00, iParams Err.: 1.8e-01, iParams Norm: 1.1e+00, Stopped/Resetted Loss: 2.4e-02, \n",
                        "Epoch 1600:   Params Err.: 0.0e+00, y0 error: 5.3e-01, Params Norm: 0.0e+00, iParams Err.: 1.7e-01, iParams Norm: 1.2e+00, Stopped/Resetted Loss: 1.4e-02, \n",
                        "Epoch 2000:   Params Err.: 0.0e+00, y0 error: 5.3e-01, Params Norm: 0.0e+00, iParams Err.: 1.5e-01, iParams Norm: 1.2e+00, Stopped/Resetted Loss: 1.7e-02, \n",
                        "Epoch 2400:   Params Err.: 0.0e+00, y0 error: 5.3e-01, Params Norm: 0.0e+00, iParams Err.: 1.4e-01, iParams Norm: 1.2e+00, Stopped/Resetted Loss: 1.0e-02, \n",
                        "Epoch 2800:   Params Err.: 0.0e+00, y0 error: 5.4e-01, Params Norm: 0.0e+00, iParams Err.: 1.3e-01, iParams Norm: 1.2e+00, Stopped/Resetted Loss: 9.0e-03, \n",
                        "Epoch 3200:   Params Err.: 0.0e+00, y0 error: 5.4e-01, Params Norm: 0.0e+00, iParams Err.: 1.2e-01, iParams Norm: 1.2e+00, Stopped/Resetted Loss: 1.2e-02, \n",
                        "Epoch 3600:   Params Err.: 0.0e+00, y0 error: 5.4e-01, Params Norm: 0.0e+00, iParams Err.: 1.1e-01, iParams Norm: 1.2e+00, Stopped/Resetted Loss: 8.6e-03, \n",
                        "Epoch 3999:   Params Err.: 0.0e+00, y0 error: 5.4e-01, Params Norm: 0.0e+00, iParams Err.: 1.0e-01, iParams Norm: 1.2e+00, Stopped/Resetted Loss: 8.1e-03, \n"
                    ]
                }
            ],
            "source": [
                "# Performing training\n",
                "params_final, losses, errors, params_history = train_adoptODE(dataset)"
            ]
        },
        {
            "cell_type": "code",
            "execution_count": 6,
            "metadata": {},
            "outputs": [
                {
                    "name": "stdout",
                    "output_type": "stream",
                    "text": [
                        "alpha: Truth: 0.95539, Recov.: 0.85178 \n",
                        " beta: Truth: 0.11483, Recov.: 0.11551 \n",
                        " gamma: Truth: 0.73523, Recov.: 0.73911 \n",
                        " delta: Truth: 0.39695, Recov.: 0.39517 \n",
                        " cprey: Truth: 0.00000, Recov.: -0.01532 \n",
                        " cpredators: Truth: 0.00000, Recov.: -0.00074 \n",
                        "\n"
                    ]
                }
            ],
            "source": [
                "print(*['{}: Truth: {:.5f}, Recov.: {:.5f} \\n'.format(k, dataset.iparams[k][0], dataset.iparams_train[k][0]) for k in dataset.iparams.keys()])"
            ]
        },
        {
            "attachments": {},
            "cell_type": "markdown",
            "metadata": {},
            "source": [
                "#### Fitting multiple trajectories:"
            ]
        },
        {
            "cell_type": "code",
            "execution_count": 7,
            "metadata": {},
            "outputs": [
                {
                    "name": "stdout",
                    "output_type": "stream",
                    "text": [
                        "Epoch 000:   Params Err.: 0.0e+00, y0 error: 6.9e-01, Params Norm: 0.0e+00, iParams Err.: 1.2e+01, iParams Norm: 0.0e+00, Stopped/Resetted Loss: 8.1e+00, \n",
                        "Epoch 400:   Params Err.: 0.0e+00, y0 error: 2.7e+00, Params Norm: 0.0e+00, iParams Err.: 1.4e+00, iParams Norm: 1.2e+01, Stopped/Resetted Loss: 5.7e-03, \n",
                        "Epoch 800:   Params Err.: 0.0e+00, y0 error: 2.1e+00, Params Norm: 0.0e+00, iParams Err.: 1.1e+00, iParams Norm: 1.2e+01, Stopped/Resetted Loss: 4.5e-03, \n",
                        "Epoch 1200:   Params Err.: 0.0e+00, y0 error: 1.8e+00, Params Norm: 0.0e+00, iParams Err.: 9.2e-01, iParams Norm: 1.2e+01, Stopped/Resetted Loss: 3.3e-03, \n",
                        "Epoch 1600:   Params Err.: 0.0e+00, y0 error: 1.6e+00, Params Norm: 0.0e+00, iParams Err.: 8.1e-01, iParams Norm: 1.2e+01, Stopped/Resetted Loss: 2.2e-03, \n",
                        "Epoch 2000:   Params Err.: 0.0e+00, y0 error: 1.4e+00, Params Norm: 0.0e+00, iParams Err.: 7.2e-01, iParams Norm: 1.2e+01, Stopped/Resetted Loss: 1.9e-03, \n",
                        "Epoch 2400:   Params Err.: 0.0e+00, y0 error: 1.3e+00, Params Norm: 0.0e+00, iParams Err.: 6.6e-01, iParams Norm: 1.2e+01, Stopped/Resetted Loss: 1.8e-03, \n",
                        "Epoch 2800:   Params Err.: 0.0e+00, y0 error: 1.2e+00, Params Norm: 0.0e+00, iParams Err.: 6.0e-01, iParams Norm: 1.2e+01, Stopped/Resetted Loss: 1.1e-03, \n",
                        "Epoch 3200:   Params Err.: 0.0e+00, y0 error: 1.1e+00, Params Norm: 0.0e+00, iParams Err.: 5.6e-01, iParams Norm: 1.2e+01, Stopped/Resetted Loss: 8.6e-04, \n",
                        "Epoch 3600:   Params Err.: 0.0e+00, y0 error: 9.6e-01, Params Norm: 0.0e+00, iParams Err.: 5.2e-01, iParams Norm: 1.2e+01, Stopped/Resetted Loss: 5.8e-04, \n",
                        "Epoch 3999:   Params Err.: 0.0e+00, y0 error: 8.8e-01, Params Norm: 0.0e+00, iParams Err.: 4.9e-01, iParams Norm: 1.2e+01, Stopped/Resetted Loss: 5.5e-04, \n"
                    ]
                }
            ],
            "source": [
                "N_sys = 100 # This number of Systems is independently generated with random parameters, simulated and afterwards recovered\n",
                "rel_noise_amplitude = 0.01\n",
                "kwargs_sys = {'N_sys': N_sys}\n",
                "kwargs_adoptODE = {'epochs':4000, # For better recovery 20000 epochs are necessary, increasing runtime\n",
                "               'lr':0,\n",
                "               'lr_ip':1e-2, \n",
                "               't_reset_idcs':t_reset_idcs, \n",
                "               'lr_y0':3e-3, \n",
                "               'lower_b_ip':lower_bound_ip, \n",
                "               'lower_b_y0':lower_bound_y0, \n",
                "               'lr_decay_ip':0.9996, \n",
                "               'lr_decay_y0':0.9996}\n",
                "iparams_guess = {\n",
                "    'alpha': np.zeros(N_sys),\n",
                "    'beta': np.zeros(N_sys),\n",
                "    'gamma': np.zeros(N_sys),\n",
                "    'delta': np.zeros(N_sys),\n",
                "    'cprey':np.zeros(N_sys),\n",
                "    'cpredators':np.zeros(N_sys)  \n",
                "}\n",
                "\n",
                "dataset = simple_simulation(define_LV, t_evals, kwargs_sys, kwargs_adoptODE, iparams_train=iparams_guess, rel_noise=rel_noise_amplitude)\n",
                "\n",
                "params_final, losses, errors, params_history = train_adoptODE(dataset)"
            ]
        },
        {
            "cell_type": "code",
            "execution_count": 8,
            "metadata": {},
            "outputs": [
                {
                    "data": {
                        "image/png": "[encoded data removed]",
                        "text/plain": [
                            "<Figure size 640x480 with 1 Axes>"
                        ]
                    },
                    "metadata": {},
                    "output_type": "display_data"
                }
            ],
            "source": [
                "# Plot the error of recovered parameter alpha for the simulated systems\n",
                "plt.scatter(np.arange(len(dataset.iparams_train['alpha'])), dataset.iparams_train['alpha']-dataset.iparams['alpha'])\n",
                "plt.xlabel('System')\n",
                "plt.ylabel('Error of parameter $\\\\alpha$')\n",
                "plt.show()"
            ]
        },
        {
            "cell_type": "markdown",
            "metadata": {},
            "source": [
                "#### Example of using ODE Solvers from [Diffrax](https://github.com/patrick-kidger/diffrax):\n",
                "\n",
                "For this diffrax needs to be installed: \n",
                "\n",
                "pip install diffrax"
            ]
        },
        {
            "cell_type": "code",
            "execution_count": 11,
            "metadata": {},
            "outputs": [],
            "source": [
                "import diffrax\n",
                "\n",
                "def custom_ode_solver(eom, y0, t, *args, rtol=1.4e-8, atol=1.4e-8, mxstep=jnp.inf, dt_ini=0.01):\n",
                "    func = lambda y,t,args: eom(t,y,*args) # Diffrax expexts other structure of arguments\n",
                "    sol = diffrax.diffeqsolve(diffrax.ODETerm(func),\n",
                "                               diffrax.Tsit5(),\n",
                "                                t[0],\n",
                "                                t[-1],\n",
                "                                0.01,\n",
                "                                y0,\n",
                "                                args,\n",
                "                                saveat=diffrax.SaveAt(ts=t),\n",
                "                                stepsize_controller=diffrax.PIDController(pcoeff=0.4, icoeff=0.3, dcoeff=0, rtol=rtol,atol=atol),\n",
                "                                max_steps=100000)\n",
                "    return sol.ys"
            ]
        },
        {
            "cell_type": "code",
            "execution_count": 12,
            "metadata": {},
            "outputs": [],
            "source": [
                "# Setting up system and training properties\n",
                "kwargs_sys = {'N_sys':1}\n",
                "t_evals=jnp.linspace(0,40,200)\n",
                "reset_every = 20\n",
                "t_reset_idcs = tuple([reset_every*i for i in range(int(np.ceil((len(t_evals)-1)/reset_every)))])\n",
                "iparams_guess = {'alpha':np.zeros(1), 'beta':np.zeros(1), 'gamma':np.zeros(1), 'delta':np.zeros(1), 'cprey':np.zeros(1), 'cpredators':np.zeros(1)}\n",
                "lower_bound_ip = {'alpha':0., 'beta':0., 'gamma':0., 'delta':0., 'cprey':-jnp.inf, 'cpredators':-jnp.inf}\n",
                "lower_bound_y0 = {'prey':0., 'predators':0.}\n",
                "kwargs_adoptODE = {'epochs':4000, \n",
                "               'lr':0,\n",
                "               'lr_ip':1e-2, \n",
                "               't_reset_idcs':t_reset_idcs, \n",
                "               'lr_y0':3e-3, \n",
                "               'lower_b_ip':lower_bound_ip, \n",
                "               'lower_b_y0':lower_bound_y0, \n",
                "               'lr_decay_ip':0.9994, \n",
                "               'lr_decay_y0':0.9994,\n",
                "               'ODE_solver':custom_ode_solver} # Pass custom ODE solver fitted to work as Jax's odeint here!\n",
                "\n",
                "# Generating dataset via simulation\n",
                "dataset = simple_simulation(define_LV, t_evals, kwargs_sys, kwargs_adoptODE, iparams_train=iparams_guess, rel_noise=0.01)"
            ]
        },
        {
            "cell_type": "code",
            "execution_count": 13,
            "metadata": {},
            "outputs": [
                {
                    "name": "stdout",
                    "output_type": "stream",
                    "text": [
                        "Epoch 000:   Params Err.: 0.0e+00, y0 error: 2.6e-02, Params Norm: 0.0e+00, iParams Err.: 1.3e+00, iParams Norm: 0.0e+00, Stopped/Resetted Loss: 7.2e-01, \n",
                        "Epoch 400:   Params Err.: 0.0e+00, y0 error: 1.4e-02, Params Norm: 0.0e+00, iParams Err.: 3.2e-03, iParams Norm: 1.3e+00, Stopped/Resetted Loss: 7.2e-05, \n",
                        "Epoch 800:   Params Err.: 0.0e+00, y0 error: 1.5e-02, Params Norm: 0.0e+00, iParams Err.: 2.5e-03, iParams Norm: 1.3e+00, Stopped/Resetted Loss: 1.1e-04, \n",
                        "Epoch 1200:   Params Err.: 0.0e+00, y0 error: 1.5e-02, Params Norm: 0.0e+00, iParams Err.: 2.3e-03, iParams Norm: 1.3e+00, Stopped/Resetted Loss: 9.1e-05, \n",
                        "Epoch 1600:   Params Err.: 0.0e+00, y0 error: 1.4e-02, Params Norm: 0.0e+00, iParams Err.: 2.1e-03, iParams Norm: 1.3e+00, Stopped/Resetted Loss: 5.2e-05, \n",
                        "Epoch 2000:   Params Err.: 0.0e+00, y0 error: 1.4e-02, Params Norm: 0.0e+00, iParams Err.: 2.2e-03, iParams Norm: 1.3e+00, Stopped/Resetted Loss: 5.4e-05, \n",
                        "Epoch 2400:   Params Err.: 0.0e+00, y0 error: 1.4e-02, Params Norm: 0.0e+00, iParams Err.: 2.0e-03, iParams Norm: 1.3e+00, Stopped/Resetted Loss: 5.2e-05, \n",
                        "Epoch 2800:   Params Err.: 0.0e+00, y0 error: 1.4e-02, Params Norm: 0.0e+00, iParams Err.: 2.0e-03, iParams Norm: 1.3e+00, Stopped/Resetted Loss: 5.1e-05, \n",
                        "Epoch 3200:   Params Err.: 0.0e+00, y0 error: 1.4e-02, Params Norm: 0.0e+00, iParams Err.: 2.3e-03, iParams Norm: 1.3e+00, Stopped/Resetted Loss: 5.5e-05, \n",
                        "Epoch 3600:   Params Err.: 0.0e+00, y0 error: 1.4e-02, Params Norm: 0.0e+00, iParams Err.: 2.0e-03, iParams Norm: 1.3e+00, Stopped/Resetted Loss: 5.3e-05, \n",
                        "Epoch 3999:   Params Err.: 0.0e+00, y0 error: 1.4e-02, Params Norm: 0.0e+00, iParams Err.: 2.0e-03, iParams Norm: 1.3e+00, Stopped/Resetted Loss: 5.1e-05, \n"
                    ]
                }
            ],
            "source": [
                "# Performing training\n",
                "params_final, losses, errors, params_history = train_adoptODE(dataset)"
            ]
        },
        {
            "cell_type": "code",
            "execution_count": 14,
            "metadata": {},
            "outputs": [
                {
                    "name": "stdout",
                    "output_type": "stream",
                    "text": [
                        "alpha: Truth: 0.65268, Recov.: 0.65217 \n",
                        " beta: Truth: 0.68587, Recov.: 0.68534 \n",
                        " gamma: Truth: 0.46759, Recov.: 0.46857 \n",
                        " delta: Truth: 0.67677, Recov.: 0.67683 \n",
                        " cprey: Truth: 0.00000, Recov.: 0.00135 \n",
                        " cpredators: Truth: 0.00000, Recov.: -0.00093 \n",
                        "\n"
                    ]
                }
            ],
            "source": [
                "print(*['{}: Truth: {:.5f}, Recov.: {:.5f} \\n'.format(k, dataset.iparams[k][0], dataset.iparams_train[k][0]) for k in dataset.iparams.keys()])"
            ]
        }
    ],
    "metadata": {
        "kernelspec": {
            "display_name": "Python 3 (ipykernel)",
            "language": "python",
            "name": "python3"
        },
        "language_info": {
            "codemirror_mode": {
                "name": "ipython",
                "version": 3
            },
            "file_extension": ".py",
            "mimetype": "text/x-python",
            "name": "python",
            "nbconvert_exporter": "python",
            "pygments_lexer": "ipython3",
            "version": "3.12.0"
        },
        "vscode": {
            "interpreter": {
                "hash": "bdecebaa822570f6ac7053702463ef727ce3366435726703991fef4885de430e"
            }
        }
    },
    "nbformat": 4,
    "nbformat_minor": 2
}
