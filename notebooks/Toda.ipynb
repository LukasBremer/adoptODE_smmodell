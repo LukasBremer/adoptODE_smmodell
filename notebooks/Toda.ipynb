{
 "cells": [
  {
   "cell_type": "code",
   "execution_count": 56,
   "metadata": {},
   "outputs": [],
   "source": [
    "import numpy as np\n",
    "import jax.numpy as jnp\n",
    "from jax import jit\n",
    "from adoptODE import simple_simulation, train_adoptODE \n",
    "import matplotlib.pyplot as plt\n",
    "from ODE_Fix_dt import *\n",
    "import scipy\n",
    "\n",
    "def define_system(**kwargs_sys):\n",
    "    x_max = kwargs_sys['x_max']\n",
    "    z_max = kwargs_sys['z_max']\n",
    "    d_max = kwargs_sys['d_max']\n",
    "    f_max = kwargs_sys['f_max']\n",
    "    d_0 = kwargs_sys['d_0']\n",
    "    f_0 = kwargs_sys['f_0']\n",
    "    A = kwargs_sys['A']\n",
    "    t_eval = jnp.linspace(0, 100, 50000)\n",
    "    \n",
    "    @jit\n",
    "    def t_to_value(x,t):\n",
    "        # u = x-t\n",
    "        # t_close = jnp.nonzero(np.where(u == jnp.min(jnp.absolute(u)),x,0))\n",
    "        # #t_close = jnp.abs(u).min() + t\n",
    "        delta_t = 100/5000\n",
    "        \n",
    "        i = jnp.rint(t/delta_t).astype(int)\n",
    "        return x[i]\n",
    "\n",
    "    \n",
    "    def gen_y0():\n",
    "        x0 = -x_max + 2 * np.random.rand()*x_max\n",
    "        z0 = -z_max + 2 * np.random.rand()*z_max\n",
    "        return {'x':x0, 'z':z0}\n",
    "    \n",
    "    def gen_params():\n",
    "        d = d_0 + np.random.rand()*d_max\n",
    "        f = f_0 + np.random.rand()*f_max\n",
    "        \n",
    "        return {'d':d, 'f':f}, {}, {}\n",
    "        \n",
    "    @jit\n",
    "    def eom(y, t, params, iparams, exparams):\n",
    "        dx = y['z'] \n",
    "        dz = - params['d'] * y['z'] + jnp.exp(-y[\"x\"]) -1  + A * jnp.sin(2*jnp.pi * params['f'] * t_to_value(t_eval, t))\n",
    "        return {'x':dx, 'z':dz}\n",
    "\n",
    "    @jit\n",
    "    def loss(ys, params, iparams, \n",
    "                    exparams, targets):\n",
    "        x = ys['x']\n",
    "        z = ys['z']\n",
    "        t_x = targets['x']\n",
    "        t_z = targets['z']\n",
    "        return jnp.mean((x-t_x)**2 + (z-t_z)**2)\n",
    "\n",
    "    return eom, loss, gen_params, gen_y0, {}"
   ]
  },
  {
   "cell_type": "code",
   "execution_count": 62,
   "metadata": {},
   "outputs": [],
   "source": [
    "kwargs_sys = {'x_max': 5,\n",
    "            'z_max': 5,\n",
    "            'd_max': 1,\n",
    "            'f_max': 5,\n",
    "            'd_0': .01,\n",
    "            'f_0': 1,\n",
    "            'A' : 2,\n",
    "            'N_sys': 1}\n",
    "kwargs_adoptODE = {'lr':3e-2, 'epochs':1000}\n",
    "t_evals = np.linspace(0,100,1000)\n",
    "dataset = simple_simulation(define_system,\n",
    "                                t_evals,\n",
    "                                kwargs_sys,\n",
    "                                kwargs_adoptODE)"
   ]
  },
  {
   "cell_type": "code",
   "execution_count": 63,
   "metadata": {},
   "outputs": [
    {
     "name": "stdout",
     "output_type": "stream",
     "text": [
      "The true parameters used to generate the data:  {'d': 0.41700752645337213, 'f': 5.480033489144482}\n",
      "The initial gues of parameters for the recovery:  {'d': 0.27331046557287797, 'f': 4.860995766225956}\n"
     ]
    }
   ],
   "source": [
    "print('The true parameters used to generate the data: ', dataset.params)\n",
    "print('The initial gues of parameters for the recovery: ', dataset.params_train )"
   ]
  },
  {
   "cell_type": "code",
   "execution_count": 64,
   "metadata": {},
   "outputs": [
    {
     "name": "stdout",
     "output_type": "stream",
     "text": [
      "Epoch 000:  Loss: 7.0e-01,  Params Err.: 6.4e-01, y0 error: 0.0e+00, Params Norm: 4.9e+00, iParams Err.: 0.0e+00, iParams Norm: 0.0e+00, \n",
      "Epoch 100:  Loss: 5.0e-01,  Params Err.: 6.3e-01, y0 error: 0.0e+00, Params Norm: 4.9e+00, iParams Err.: 0.0e+00, iParams Norm: 0.0e+00, \n",
      "Epoch 200:  Loss: 5.0e-01,  Params Err.: 6.3e-01, y0 error: 0.0e+00, Params Norm: 4.9e+00, iParams Err.: 0.0e+00, iParams Norm: 0.0e+00, \n",
      "Epoch 300:  Loss: 5.0e-01,  Params Err.: 6.3e-01, y0 error: 0.0e+00, Params Norm: 4.9e+00, iParams Err.: 0.0e+00, iParams Norm: 0.0e+00, \n",
      "Epoch 400:  Loss: 5.0e-01,  Params Err.: 6.3e-01, y0 error: 0.0e+00, Params Norm: 4.9e+00, iParams Err.: 0.0e+00, iParams Norm: 0.0e+00, \n",
      "Epoch 500:  Loss: 5.0e-01,  Params Err.: 6.3e-01, y0 error: 0.0e+00, Params Norm: 4.9e+00, iParams Err.: 0.0e+00, iParams Norm: 0.0e+00, \n",
      "Epoch 600:  Loss: 5.0e-01,  Params Err.: 6.3e-01, y0 error: 0.0e+00, Params Norm: 4.9e+00, iParams Err.: 0.0e+00, iParams Norm: 0.0e+00, \n",
      "Epoch 700:  Loss: 5.0e-01,  Params Err.: 6.3e-01, y0 error: 0.0e+00, Params Norm: 4.9e+00, iParams Err.: 0.0e+00, iParams Norm: 0.0e+00, \n",
      "Epoch 800:  Loss: 5.0e-01,  Params Err.: 6.3e-01, y0 error: 0.0e+00, Params Norm: 4.9e+00, iParams Err.: 0.0e+00, iParams Norm: 0.0e+00, \n",
      "Epoch 900:  Loss: 4.9e-01,  Params Err.: 6.2e-01, y0 error: 0.0e+00, Params Norm: 4.9e+00, iParams Err.: 0.0e+00, iParams Norm: 0.0e+00, \n",
      "Epoch 999:  Loss: 5.0e-01,  Params Err.: 6.3e-01, y0 error: 0.0e+00, Params Norm: 4.9e+00, iParams Err.: 0.0e+00, iParams Norm: 0.0e+00, \n",
      "True params:  {'d': 0.41700752645337213, 'f': 5.480033489144482}\n",
      "Found params:  {'d': Array(0.42125407, dtype=float32), 'f': Array(4.8533907, dtype=float32)}\n"
     ]
    }
   ],
   "source": [
    "_ = train_adoptODE(dataset)\n",
    "print('True params: ', dataset.params)\n",
    "print('Found params: ', dataset.params_train)"
   ]
  },
  {
   "cell_type": "code",
   "execution_count": null,
   "metadata": {},
   "outputs": [],
   "source": []
  },
  {
   "cell_type": "code",
   "execution_count": null,
   "metadata": {},
   "outputs": [],
   "source": []
  },
  {
   "cell_type": "code",
   "execution_count": null,
   "metadata": {},
   "outputs": [],
   "source": []
  }
 ],
 "metadata": {
  "kernelspec": {
   "display_name": ".adoptodevenv",
   "language": "python",
   "name": "python3"
  },
  "language_info": {
   "codemirror_mode": {
    "name": "ipython",
    "version": 3
   },
   "file_extension": ".py",
   "mimetype": "text/x-python",
   "name": "python",
   "nbconvert_exporter": "python",
   "pygments_lexer": "ipython3",
   "version": "3.9.13"
  }
 },
 "nbformat": 4,
 "nbformat_minor": 2
}
