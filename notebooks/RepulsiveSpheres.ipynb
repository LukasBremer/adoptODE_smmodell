{
    "cells": [
        {
            "cell_type": "markdown",
            "metadata": {},
            "source": [
                "# Repulsive Spheres\n",
                "In this example, spheres charackterized by individual masses and a radii $\\sigma$ ar confined to a box and interact via Lennard-Jones potentials. Masses and radii of the spheres are recovered from the trajectories."
            ]
        },
        {
            "cell_type": "code",
            "execution_count": 1,
            "metadata": {},
            "outputs": [],
            "source": [
                "# For this System, depending on the GPU/CPU performance Cpu can be better, for our systems GPUs (e.g. a GTX 3070) where faster.\n",
                "#import jax\n",
                "#jax.config.update('jax_platform_name', 'cpu')"
            ]
        },
        {
            "cell_type": "code",
            "execution_count": 2,
            "metadata": {},
            "outputs": [],
            "source": [
                "import jax.numpy as jnp\n",
                "from jax import jit\n",
                "from jax.flatten_util import ravel_pytree\n",
                "\n",
                "import numpy as np\n",
                "import scipy\n",
                "import matplotlib.pyplot as plt\n",
                "\n",
                "from adoptODE import train_adoptODE, simple_simulation"
            ]
        },
        {
            "cell_type": "code",
            "execution_count": 4,
            "metadata": {},
            "outputs": [],
            "source": [
                "# Defining EOM for repulsive N-Body System\n",
                "def n_body_eom_repulsive(**kwargs):\n",
                "    r_box = kwargs['r_box']\n",
                "    N_bodies = kwargs['N_bodies']\n",
                "    def gen_params():\n",
                "        masses = 9*np.random.rand(kwargs['N_bodies'])+1\n",
                "        sigmas = 0.5*np.random.rand(kwargs['N_bodies'])+0.2\n",
                "        return {'masses':masses, 'sigmas':sigmas}, {}, {}\n",
                "\n",
                "    def gen_y0():\n",
                "        one_dim_box = np.linspace(-r_box+0.2,r_box-0.2,int((2*r_box)//1.4))\n",
                "        grid = np.meshgrid(*([one_dim_box]*3))\n",
                "        slots = grid[0].size\n",
                "        indcs = np.random.permutation(np.arange(slots))\n",
                "        coords = np.stack([grid[i].flat[indcs[:N_bodies]] for i in range(3)], axis=1)\n",
                "        vels = np.array(scipy.stats.truncnorm.rvs(-2,2, size=3*kwargs['N_bodies']).reshape((-1,3)))\n",
                "        return {'positions':coords, 'velocities':vels}\n",
                "\n",
                "    def eom(y,t,params, iparams, exparams):\n",
                "        valid = 1-np.eye(kwargs['N_bodies'])\n",
                "        dist_vecs = jnp.where(valid[:,:,jnp.newaxis]==1, \n",
                "                              (y['positions'] - y['positions'][:, jnp.newaxis]), \n",
                "                              jnp.ones_like(y['positions']))\n",
                "        dists = jnp.linalg.norm(dist_vecs, axis=2)\n",
                "        unit_dist_vecs = dist_vecs/dists[:,:,jnp.newaxis]\n",
                "        dists = jnp.clip(dists, 1e-1, None)\n",
                "        sigma_sum = params['sigmas'][jnp.newaxis, :, jnp.newaxis]+params['sigmas'][:, jnp.newaxis, jnp.newaxis]\n",
                "        masses = params['masses'][:,jnp.newaxis,jnp.newaxis]\n",
                "        LJ_acc = valid[:,:,jnp.newaxis]*unit_dist_vecs / masses*(24*sigma_sum**6*(dists[:,:,jnp.newaxis]**6-2*sigma_sum**6)/dists[:,:,jnp.newaxis]**13)\n",
                "\n",
                "        pos_bound_lower = jnp.clip(-r_box-y['positions'],0, None)\n",
                "        pos_bound_upper = jnp.clip(-r_box+y['positions'],0,None)\n",
                "        bound_acc = 100*(pos_bound_lower**2 - pos_bound_upper**2)\n",
                "\n",
                "        total_acc = jnp.sum(LJ_acc, axis=1) + bound_acc\n",
                "        \n",
                "        return {'positions': y['velocities'], 'velocities':total_acc}\n",
                "\n",
                "    def loss(ys, params, iparams, exparams, ys_targets):\n",
                "        loss_trajectory = jnp.nanmean((ravel_pytree(ys)[0]-ravel_pytree(ys_targets)[0])**2)\n",
                "        return loss_trajectory\n",
                "\n",
                "    return jit(eom), jit(loss), gen_params, gen_y0, {}"
            ]
        },
        {
            "cell_type": "code",
            "execution_count": 5,
            "metadata": {},
            "outputs": [],
            "source": [
                "# Setting up dataset by simulation:\n",
                "N_bodies = 10\n",
                "t_evals = jnp.linspace(0,200,4000)\n",
                "N_sys = 1\n",
                "kwargs_sys = {'N_sys':N_sys, 'N_bodies':N_bodies, 'r_box':3.5*(N_bodies/10)**(1/3)}\n",
                "reset_every = 20\n",
                "t_reset_idcs = tuple([reset_every*i for i in range(int(np.ceil((len(t_evals)-1)/reset_every)))])\n",
                "lower_bound_params = {'masses':1, 'sigmas':0.2}\n",
                "kwargs_adoptODE = {'lr':1e-1, \n",
                "               'epochs':200, \n",
                "               't_reset_idcs':t_reset_idcs,\n",
                "               'lr_decay':0.99, \n",
                "               'lower_b':lower_bound_params, \n",
                "               'atol':1e-7, 'rtol':1e-7}\n",
                "dataset = simple_simulation(n_body_eom_repulsive, t_evals, kwargs_sys, kwargs_adoptODE)"
            ]
        },
        {
            "cell_type": "code",
            "execution_count": 6,
            "metadata": {},
            "outputs": [
                {
                    "name": "stdout",
                    "output_type": "stream",
                    "text": [
                        "Epoch 000:   Params Err.: 1.1e+01, y0 error: 0.0e+00, Params Norm: 1.9e+01, iParams Err.: 0.0e+00, iParams Norm: 0.0e+00, Stopped/Resetted Loss: 7.0e-01, \n",
                        "Epoch 020:   Params Err.: 8.5e+00, y0 error: 0.0e+00, Params Norm: 1.9e+01, iParams Err.: 0.0e+00, iParams Norm: 0.0e+00, Stopped/Resetted Loss: 7.0e-03, \n",
                        "Epoch 040:   Params Err.: 5.6e+00, y0 error: 0.0e+00, Params Norm: 1.9e+01, iParams Err.: 0.0e+00, iParams Norm: 0.0e+00, Stopped/Resetted Loss: 1.8e-03, \n",
                        "Epoch 060:   Params Err.: 3.8e+00, y0 error: 0.0e+00, Params Norm: 2.0e+01, iParams Err.: 0.0e+00, iParams Norm: 0.0e+00, Stopped/Resetted Loss: 7.6e-04, \n",
                        "Epoch 080:   Params Err.: 3.6e+00, y0 error: 0.0e+00, Params Norm: 2.1e+01, iParams Err.: 0.0e+00, iParams Norm: 0.0e+00, Stopped/Resetted Loss: 3.0e-04, \n",
                        "Epoch 100:   Params Err.: 3.7e+00, y0 error: 0.0e+00, Params Norm: 2.2e+01, iParams Err.: 0.0e+00, iParams Norm: 0.0e+00, Stopped/Resetted Loss: 1.3e-04, \n",
                        "Epoch 120:   Params Err.: 3.3e+00, y0 error: 0.0e+00, Params Norm: 2.2e+01, iParams Err.: 0.0e+00, iParams Norm: 0.0e+00, Stopped/Resetted Loss: 4.6e-05, \n",
                        "Epoch 140:   Params Err.: 2.1e+00, y0 error: 0.0e+00, Params Norm: 2.0e+01, iParams Err.: 0.0e+00, iParams Norm: 0.0e+00, Stopped/Resetted Loss: 1.5e-05, \n",
                        "Epoch 160:   Params Err.: 1.1e+00, y0 error: 0.0e+00, Params Norm: 1.9e+01, iParams Err.: 0.0e+00, iParams Norm: 0.0e+00, Stopped/Resetted Loss: 5.2e-06, \n",
                        "Epoch 180:   Params Err.: 4.3e-01, y0 error: 0.0e+00, Params Norm: 1.9e+01, iParams Err.: 0.0e+00, iParams Norm: 0.0e+00, Stopped/Resetted Loss: 1.3e-05, \n",
                        "Epoch 199:   Params Err.: 1.4e-01, y0 error: 0.0e+00, Params Norm: 1.9e+01, iParams Err.: 0.0e+00, iParams Norm: 0.0e+00, Stopped/Resetted Loss: 2.1e-05, \n"
                    ]
                }
            ],
            "source": [
                "# Performing Training:\n",
                "params_final, losses, errors, params_history = train_adoptODE(dataset, print_interval=20)"
            ]
        },
        {
            "cell_type": "code",
            "execution_count": 7,
            "metadata": {},
            "outputs": [
                {
                    "data": {
                        "image/png": "[encoded data removed]",
                        "text/plain": [
                            "<Figure size 500x400 with 2 Axes>"
                        ]
                    },
                    "metadata": {},
                    "output_type": "display_data"
                }
            ],
            "source": [
                "#Plot distribution of absolut errors:\n",
                "fig, ax = plt.subplots(figsize=(5,4))\n",
                "ax2 = ax.twinx()\n",
                "ax.boxplot([np.abs(dataset.params['masses']-dataset.params_train['masses']), np.abs(dataset.params['sigmas']-dataset.params_train['sigmas'])])\n",
                "ax.set_yscale('log')\n",
                "ax.set_ylabel(\"Absolute Errors\")\n",
                "ax.set_xticklabels(['Masses', 'Radii'])\n",
                "plt.show()"
            ]
        },
        {
            "cell_type": "markdown",
            "metadata": {},
            "source": [
                "#### Longer training for better accuracy"
            ]
        },
        {
            "cell_type": "code",
            "execution_count": 8,
            "metadata": {},
            "outputs": [
                {
                    "name": "stdout",
                    "output_type": "stream",
                    "text": [
                        "Epoch 000:   Params Err.: 1.0e+01, y0 error: 0.0e+00, Params Norm: 1.9e+01, iParams Err.: 0.0e+00, iParams Norm: 0.0e+00, Stopped/Resetted Loss: 3.6e-01, \n",
                        "Epoch 020:   Params Err.: 9.4e+00, y0 error: 0.0e+00, Params Norm: 1.9e+01, iParams Err.: 0.0e+00, iParams Norm: 0.0e+00, Stopped/Resetted Loss: 5.3e-03, \n",
                        "Epoch 040:   Params Err.: 8.0e+00, y0 error: 0.0e+00, Params Norm: 1.9e+01, iParams Err.: 0.0e+00, iParams Norm: 0.0e+00, Stopped/Resetted Loss: 3.4e-03, \n",
                        "Epoch 060:   Params Err.: 6.6e+00, y0 error: 0.0e+00, Params Norm: 1.9e+01, iParams Err.: 0.0e+00, iParams Norm: 0.0e+00, Stopped/Resetted Loss: 2.3e-03, \n",
                        "Epoch 080:   Params Err.: 5.3e+00, y0 error: 0.0e+00, Params Norm: 2.0e+01, iParams Err.: 0.0e+00, iParams Norm: 0.0e+00, Stopped/Resetted Loss: 1.4e-03, \n",
                        "Epoch 100:   Params Err.: 4.3e+00, y0 error: 0.0e+00, Params Norm: 2.0e+01, iParams Err.: 0.0e+00, iParams Norm: 0.0e+00, Stopped/Resetted Loss: 7.9e-04, \n",
                        "Epoch 120:   Params Err.: 3.2e+00, y0 error: 0.0e+00, Params Norm: 2.0e+01, iParams Err.: 0.0e+00, iParams Norm: 0.0e+00, Stopped/Resetted Loss: 3.6e-04, \n",
                        "Epoch 140:   Params Err.: 2.0e+00, y0 error: 0.0e+00, Params Norm: 2.0e+01, iParams Err.: 0.0e+00, iParams Norm: 0.0e+00, Stopped/Resetted Loss: 1.4e-04, \n",
                        "Epoch 160:   Params Err.: 9.5e-01, y0 error: 0.0e+00, Params Norm: 1.9e+01, iParams Err.: 0.0e+00, iParams Norm: 0.0e+00, Stopped/Resetted Loss: 4.6e-05, \n",
                        "Epoch 180:   Params Err.: 1.8e-01, y0 error: 0.0e+00, Params Norm: 1.9e+01, iParams Err.: 0.0e+00, iParams Norm: 0.0e+00, Stopped/Resetted Loss: 7.8e-06, \n",
                        "Epoch 200:   Params Err.: 5.9e-02, y0 error: 0.0e+00, Params Norm: 1.9e+01, iParams Err.: 0.0e+00, iParams Norm: 0.0e+00, Stopped/Resetted Loss: 3.5e-05, \n",
                        "Epoch 220:   Params Err.: 3.9e-02, y0 error: 0.0e+00, Params Norm: 1.9e+01, iParams Err.: 0.0e+00, iParams Norm: 0.0e+00, Stopped/Resetted Loss: 2.6e-05, \n",
                        "Epoch 240:   Params Err.: 2.9e-02, y0 error: 0.0e+00, Params Norm: 1.9e+01, iParams Err.: 0.0e+00, iParams Norm: 0.0e+00, Stopped/Resetted Loss: 5.4e-06, \n",
                        "Epoch 260:   Params Err.: 3.7e-02, y0 error: 0.0e+00, Params Norm: 1.9e+01, iParams Err.: 0.0e+00, iParams Norm: 0.0e+00, Stopped/Resetted Loss: 4.5e-06, \n",
                        "Epoch 280:   Params Err.: 3.0e-02, y0 error: 0.0e+00, Params Norm: 1.9e+01, iParams Err.: 0.0e+00, iParams Norm: 0.0e+00, Stopped/Resetted Loss: 2.7e-06, \n",
                        "Epoch 300:   Params Err.: 3.1e-02, y0 error: 0.0e+00, Params Norm: 1.9e+01, iParams Err.: 0.0e+00, iParams Norm: 0.0e+00, Stopped/Resetted Loss: 1.3e-07, \n",
                        "Epoch 320:   Params Err.: 3.3e-02, y0 error: 0.0e+00, Params Norm: 1.9e+01, iParams Err.: 0.0e+00, iParams Norm: 0.0e+00, Stopped/Resetted Loss: 1.3e-06, \n",
                        "Epoch 340:   Params Err.: 3.3e-02, y0 error: 0.0e+00, Params Norm: 1.9e+01, iParams Err.: 0.0e+00, iParams Norm: 0.0e+00, Stopped/Resetted Loss: 1.4e-05, \n",
                        "Epoch 360:   Params Err.: 4.4e-02, y0 error: 0.0e+00, Params Norm: 1.9e+01, iParams Err.: 0.0e+00, iParams Norm: 0.0e+00, Stopped/Resetted Loss: 5.0e-05, \n",
                        "Epoch 380:   Params Err.: 4.2e-02, y0 error: 0.0e+00, Params Norm: 1.9e+01, iParams Err.: 0.0e+00, iParams Norm: 0.0e+00, Stopped/Resetted Loss: 2.8e-05, \n",
                        "Epoch 400:   Params Err.: 4.2e-02, y0 error: 0.0e+00, Params Norm: 1.9e+01, iParams Err.: 0.0e+00, iParams Norm: 0.0e+00, Stopped/Resetted Loss: 2.5e-05, \n",
                        "Epoch 420:   Params Err.: 3.1e-02, y0 error: 0.0e+00, Params Norm: 1.9e+01, iParams Err.: 0.0e+00, iParams Norm: 0.0e+00, Stopped/Resetted Loss: 9.5e-06, \n",
                        "Epoch 440:   Params Err.: 2.6e-02, y0 error: 0.0e+00, Params Norm: 1.9e+01, iParams Err.: 0.0e+00, iParams Norm: 0.0e+00, Stopped/Resetted Loss: 1.0e-06, \n",
                        "Epoch 460:   Params Err.: 2.6e-02, y0 error: 0.0e+00, Params Norm: 1.9e+01, iParams Err.: 0.0e+00, iParams Norm: 0.0e+00, Stopped/Resetted Loss: 1.5e-07, \n",
                        "Epoch 480:   Params Err.: 2.3e-02, y0 error: 0.0e+00, Params Norm: 1.9e+01, iParams Err.: 0.0e+00, iParams Norm: 0.0e+00, Stopped/Resetted Loss: 1.4e-06, \n",
                        "Epoch 500:   Params Err.: 3.8e-02, y0 error: 0.0e+00, Params Norm: 1.9e+01, iParams Err.: 0.0e+00, iParams Norm: 0.0e+00, Stopped/Resetted Loss: 2.4e-05, \n",
                        "Epoch 520:   Params Err.: 3.6e-02, y0 error: 0.0e+00, Params Norm: 1.9e+01, iParams Err.: 0.0e+00, iParams Norm: 0.0e+00, Stopped/Resetted Loss: 2.5e-05, \n",
                        "Epoch 540:   Params Err.: 3.7e-02, y0 error: 0.0e+00, Params Norm: 1.9e+01, iParams Err.: 0.0e+00, iParams Norm: 0.0e+00, Stopped/Resetted Loss: 1.8e-05, \n",
                        "Epoch 560:   Params Err.: 3.4e-02, y0 error: 0.0e+00, Params Norm: 1.9e+01, iParams Err.: 0.0e+00, iParams Norm: 0.0e+00, Stopped/Resetted Loss: 1.9e-05, \n",
                        "Epoch 580:   Params Err.: 3.0e-02, y0 error: 0.0e+00, Params Norm: 1.9e+01, iParams Err.: 0.0e+00, iParams Norm: 0.0e+00, Stopped/Resetted Loss: 9.6e-06, \n",
                        "Epoch 600:   Params Err.: 3.0e-02, y0 error: 0.0e+00, Params Norm: 1.9e+01, iParams Err.: 0.0e+00, iParams Norm: 0.0e+00, Stopped/Resetted Loss: 9.1e-06, \n",
                        "Epoch 620:   Params Err.: 2.5e-02, y0 error: 0.0e+00, Params Norm: 1.9e+01, iParams Err.: 0.0e+00, iParams Norm: 0.0e+00, Stopped/Resetted Loss: 3.4e-06, \n",
                        "Epoch 640:   Params Err.: 2.2e-02, y0 error: 0.0e+00, Params Norm: 1.9e+01, iParams Err.: 0.0e+00, iParams Norm: 0.0e+00, Stopped/Resetted Loss: 8.0e-07, \n",
                        "Epoch 660:   Params Err.: 2.0e-02, y0 error: 0.0e+00, Params Norm: 1.9e+01, iParams Err.: 0.0e+00, iParams Norm: 0.0e+00, Stopped/Resetted Loss: 2.9e-06, \n",
                        "Epoch 680:   Params Err.: 2.5e-02, y0 error: 0.0e+00, Params Norm: 1.9e+01, iParams Err.: 0.0e+00, iParams Norm: 0.0e+00, Stopped/Resetted Loss: 5.0e-06, \n",
                        "Epoch 700:   Params Err.: 2.6e-02, y0 error: 0.0e+00, Params Norm: 1.9e+01, iParams Err.: 0.0e+00, iParams Norm: 0.0e+00, Stopped/Resetted Loss: 8.5e-06, \n",
                        "Epoch 720:   Params Err.: 1.8e-02, y0 error: 0.0e+00, Params Norm: 1.9e+01, iParams Err.: 0.0e+00, iParams Norm: 0.0e+00, Stopped/Resetted Loss: 3.0e-07, \n",
                        "Epoch 740:   Params Err.: 2.3e-02, y0 error: 0.0e+00, Params Norm: 1.9e+01, iParams Err.: 0.0e+00, iParams Norm: 0.0e+00, Stopped/Resetted Loss: 1.5e-06, \n",
                        "Epoch 760:   Params Err.: 2.7e-02, y0 error: 0.0e+00, Params Norm: 1.9e+01, iParams Err.: 0.0e+00, iParams Norm: 0.0e+00, Stopped/Resetted Loss: 2.2e-05, \n",
                        "Epoch 780:   Params Err.: 2.1e-02, y0 error: 0.0e+00, Params Norm: 1.9e+01, iParams Err.: 0.0e+00, iParams Norm: 0.0e+00, Stopped/Resetted Loss: 8.9e-08, \n",
                        "Epoch 800:   Params Err.: 1.3e-02, y0 error: 0.0e+00, Params Norm: 1.9e+01, iParams Err.: 0.0e+00, iParams Norm: 0.0e+00, Stopped/Resetted Loss: 1.9e-06, \n",
                        "Epoch 820:   Params Err.: 2.4e-02, y0 error: 0.0e+00, Params Norm: 1.9e+01, iParams Err.: 0.0e+00, iParams Norm: 0.0e+00, Stopped/Resetted Loss: 2.8e-06, \n",
                        "Epoch 840:   Params Err.: 2.2e-02, y0 error: 0.0e+00, Params Norm: 1.9e+01, iParams Err.: 0.0e+00, iParams Norm: 0.0e+00, Stopped/Resetted Loss: 6.4e-07, \n",
                        "Epoch 860:   Params Err.: 2.2e-02, y0 error: 0.0e+00, Params Norm: 1.9e+01, iParams Err.: 0.0e+00, iParams Norm: 0.0e+00, Stopped/Resetted Loss: 2.4e-06, \n",
                        "Epoch 880:   Params Err.: 1.6e-02, y0 error: 0.0e+00, Params Norm: 1.9e+01, iParams Err.: 0.0e+00, iParams Norm: 0.0e+00, Stopped/Resetted Loss: 3.0e-07, \n",
                        "Epoch 900:   Params Err.: 2.0e-02, y0 error: 0.0e+00, Params Norm: 1.9e+01, iParams Err.: 0.0e+00, iParams Norm: 0.0e+00, Stopped/Resetted Loss: 1.1e-05, \n",
                        "Epoch 920:   Params Err.: 1.8e-02, y0 error: 0.0e+00, Params Norm: 1.9e+01, iParams Err.: 0.0e+00, iParams Norm: 0.0e+00, Stopped/Resetted Loss: 2.8e-06, \n",
                        "Epoch 940:   Params Err.: 1.6e-02, y0 error: 0.0e+00, Params Norm: 1.9e+01, iParams Err.: 0.0e+00, iParams Norm: 0.0e+00, Stopped/Resetted Loss: 9.3e-07, \n",
                        "Epoch 960:   Params Err.: 1.4e-02, y0 error: 0.0e+00, Params Norm: 1.9e+01, iParams Err.: 0.0e+00, iParams Norm: 0.0e+00, Stopped/Resetted Loss: 9.1e-07, \n",
                        "Epoch 980:   Params Err.: 1.1e-02, y0 error: 0.0e+00, Params Norm: 1.9e+01, iParams Err.: 0.0e+00, iParams Norm: 0.0e+00, Stopped/Resetted Loss: 2.1e-06, \n",
                        "Epoch 1000:   Params Err.: 1.3e-02, y0 error: 0.0e+00, Params Norm: 1.9e+01, iParams Err.: 0.0e+00, iParams Norm: 0.0e+00, Stopped/Resetted Loss: 3.3e-08, \n",
                        "Epoch 1020:   Params Err.: 1.2e-02, y0 error: 0.0e+00, Params Norm: 1.9e+01, iParams Err.: 0.0e+00, iParams Norm: 0.0e+00, Stopped/Resetted Loss: 1.3e-05, \n",
                        "Epoch 1040:   Params Err.: 1.4e-02, y0 error: 0.0e+00, Params Norm: 1.9e+01, iParams Err.: 0.0e+00, iParams Norm: 0.0e+00, Stopped/Resetted Loss: 1.7e-05, \n",
                        "Epoch 1060:   Params Err.: 1.4e-02, y0 error: 0.0e+00, Params Norm: 1.9e+01, iParams Err.: 0.0e+00, iParams Norm: 0.0e+00, Stopped/Resetted Loss: 1.8e-05, \n",
                        "Epoch 1080:   Params Err.: 1.5e-02, y0 error: 0.0e+00, Params Norm: 1.9e+01, iParams Err.: 0.0e+00, iParams Norm: 0.0e+00, Stopped/Resetted Loss: 1.3e-05, \n",
                        "Epoch 1100:   Params Err.: 1.3e-02, y0 error: 0.0e+00, Params Norm: 1.9e+01, iParams Err.: 0.0e+00, iParams Norm: 0.0e+00, Stopped/Resetted Loss: 1.2e-05, \n",
                        "Epoch 1120:   Params Err.: 1.3e-02, y0 error: 0.0e+00, Params Norm: 1.9e+01, iParams Err.: 0.0e+00, iParams Norm: 0.0e+00, Stopped/Resetted Loss: 1.5e-05, \n",
                        "Epoch 1140:   Params Err.: 1.3e-02, y0 error: 0.0e+00, Params Norm: 1.9e+01, iParams Err.: 0.0e+00, iParams Norm: 0.0e+00, Stopped/Resetted Loss: 9.6e-06, \n",
                        "Epoch 1160:   Params Err.: 1.3e-02, y0 error: 0.0e+00, Params Norm: 1.9e+01, iParams Err.: 0.0e+00, iParams Norm: 0.0e+00, Stopped/Resetted Loss: 5.8e-06, \n",
                        "Epoch 1180:   Params Err.: 1.3e-02, y0 error: 0.0e+00, Params Norm: 1.9e+01, iParams Err.: 0.0e+00, iParams Norm: 0.0e+00, Stopped/Resetted Loss: 9.0e-06, \n",
                        "Epoch 1200:   Params Err.: 1.1e-02, y0 error: 0.0e+00, Params Norm: 1.9e+01, iParams Err.: 0.0e+00, iParams Norm: 0.0e+00, Stopped/Resetted Loss: 7.0e-06, \n",
                        "Epoch 1220:   Params Err.: 1.0e-02, y0 error: 0.0e+00, Params Norm: 1.9e+01, iParams Err.: 0.0e+00, iParams Norm: 0.0e+00, Stopped/Resetted Loss: 7.6e-06, \n",
                        "Epoch 1240:   Params Err.: 8.3e-03, y0 error: 0.0e+00, Params Norm: 1.9e+01, iParams Err.: 0.0e+00, iParams Norm: 0.0e+00, Stopped/Resetted Loss: 1.2e-06, \n",
                        "Epoch 1260:   Params Err.: 9.9e-03, y0 error: 0.0e+00, Params Norm: 1.9e+01, iParams Err.: 0.0e+00, iParams Norm: 0.0e+00, Stopped/Resetted Loss: 2.5e-06, \n",
                        "Epoch 1280:   Params Err.: 8.1e-03, y0 error: 0.0e+00, Params Norm: 1.9e+01, iParams Err.: 0.0e+00, iParams Norm: 0.0e+00, Stopped/Resetted Loss: 1.8e-06, \n",
                        "Epoch 1300:   Params Err.: 7.9e-03, y0 error: 0.0e+00, Params Norm: 1.9e+01, iParams Err.: 0.0e+00, iParams Norm: 0.0e+00, Stopped/Resetted Loss: 3.3e-06, \n",
                        "Epoch 1320:   Params Err.: 7.4e-03, y0 error: 0.0e+00, Params Norm: 1.9e+01, iParams Err.: 0.0e+00, iParams Norm: 0.0e+00, Stopped/Resetted Loss: 8.0e-07, \n",
                        "Epoch 1340:   Params Err.: 7.8e-03, y0 error: 0.0e+00, Params Norm: 1.9e+01, iParams Err.: 0.0e+00, iParams Norm: 0.0e+00, Stopped/Resetted Loss: 2.8e-06, \n",
                        "Epoch 1360:   Params Err.: 7.3e-03, y0 error: 0.0e+00, Params Norm: 1.9e+01, iParams Err.: 0.0e+00, iParams Norm: 0.0e+00, Stopped/Resetted Loss: 3.7e-06, \n",
                        "Epoch 1380:   Params Err.: 8.0e-03, y0 error: 0.0e+00, Params Norm: 1.9e+01, iParams Err.: 0.0e+00, iParams Norm: 0.0e+00, Stopped/Resetted Loss: 4.3e-07, \n",
                        "Epoch 1400:   Params Err.: 8.5e-03, y0 error: 0.0e+00, Params Norm: 1.9e+01, iParams Err.: 0.0e+00, iParams Norm: 0.0e+00, Stopped/Resetted Loss: 1.1e-06, \n",
                        "Epoch 1420:   Params Err.: 7.9e-03, y0 error: 0.0e+00, Params Norm: 1.9e+01, iParams Err.: 0.0e+00, iParams Norm: 0.0e+00, Stopped/Resetted Loss: 4.3e-07, \n",
                        "Epoch 1440:   Params Err.: 8.6e-03, y0 error: 0.0e+00, Params Norm: 1.9e+01, iParams Err.: 0.0e+00, iParams Norm: 0.0e+00, Stopped/Resetted Loss: 2.6e-07, \n",
                        "Epoch 1460:   Params Err.: 9.9e-03, y0 error: 0.0e+00, Params Norm: 1.9e+01, iParams Err.: 0.0e+00, iParams Norm: 0.0e+00, Stopped/Resetted Loss: 8.2e-09, \n",
                        "Epoch 1480:   Params Err.: 1.5e-02, y0 error: 0.0e+00, Params Norm: 1.9e+01, iParams Err.: 0.0e+00, iParams Norm: 0.0e+00, Stopped/Resetted Loss: 1.1e-05, \n",
                        "Epoch 1500:   Params Err.: 1.5e-02, y0 error: 0.0e+00, Params Norm: 1.9e+01, iParams Err.: 0.0e+00, iParams Norm: 0.0e+00, Stopped/Resetted Loss: 9.8e-06, \n",
                        "Epoch 1520:   Params Err.: 1.4e-02, y0 error: 0.0e+00, Params Norm: 1.9e+01, iParams Err.: 0.0e+00, iParams Norm: 0.0e+00, Stopped/Resetted Loss: 7.5e-06, \n",
                        "Epoch 1540:   Params Err.: 1.3e-02, y0 error: 0.0e+00, Params Norm: 1.9e+01, iParams Err.: 0.0e+00, iParams Norm: 0.0e+00, Stopped/Resetted Loss: 6.5e-06, \n",
                        "Epoch 1560:   Params Err.: 1.3e-02, y0 error: 0.0e+00, Params Norm: 1.9e+01, iParams Err.: 0.0e+00, iParams Norm: 0.0e+00, Stopped/Resetted Loss: 6.3e-06, \n",
                        "Epoch 1580:   Params Err.: 1.3e-02, y0 error: 0.0e+00, Params Norm: 1.9e+01, iParams Err.: 0.0e+00, iParams Norm: 0.0e+00, Stopped/Resetted Loss: 5.5e-06, \n",
                        "Epoch 1600:   Params Err.: 9.6e-03, y0 error: 0.0e+00, Params Norm: 1.9e+01, iParams Err.: 0.0e+00, iParams Norm: 0.0e+00, Stopped/Resetted Loss: 3.1e-06, \n",
                        "Epoch 1620:   Params Err.: 8.4e-03, y0 error: 0.0e+00, Params Norm: 1.9e+01, iParams Err.: 0.0e+00, iParams Norm: 0.0e+00, Stopped/Resetted Loss: 1.9e-06, \n",
                        "Epoch 1640:   Params Err.: 6.7e-03, y0 error: 0.0e+00, Params Norm: 1.9e+01, iParams Err.: 0.0e+00, iParams Norm: 0.0e+00, Stopped/Resetted Loss: 2.7e-07, \n",
                        "Epoch 1660:   Params Err.: 7.2e-03, y0 error: 0.0e+00, Params Norm: 1.9e+01, iParams Err.: 0.0e+00, iParams Norm: 0.0e+00, Stopped/Resetted Loss: 7.5e-08, \n",
                        "Epoch 1680:   Params Err.: 5.7e-03, y0 error: 0.0e+00, Params Norm: 1.9e+01, iParams Err.: 0.0e+00, iParams Norm: 0.0e+00, Stopped/Resetted Loss: 8.2e-09, \n",
                        "Epoch 1700:   Params Err.: 1.1e-02, y0 error: 0.0e+00, Params Norm: 1.9e+01, iParams Err.: 0.0e+00, iParams Norm: 0.0e+00, Stopped/Resetted Loss: 4.2e-06, \n",
                        "Epoch 1720:   Params Err.: 1.3e-02, y0 error: 0.0e+00, Params Norm: 1.9e+01, iParams Err.: 0.0e+00, iParams Norm: 0.0e+00, Stopped/Resetted Loss: 9.6e-06, \n",
                        "Epoch 1740:   Params Err.: 9.1e-03, y0 error: 0.0e+00, Params Norm: 1.9e+01, iParams Err.: 0.0e+00, iParams Norm: 0.0e+00, Stopped/Resetted Loss: 1.5e-06, \n",
                        "Epoch 1760:   Params Err.: 9.2e-03, y0 error: 0.0e+00, Params Norm: 1.9e+01, iParams Err.: 0.0e+00, iParams Norm: 0.0e+00, Stopped/Resetted Loss: 2.4e-06, \n",
                        "Epoch 1780:   Params Err.: 8.8e-03, y0 error: 0.0e+00, Params Norm: 1.9e+01, iParams Err.: 0.0e+00, iParams Norm: 0.0e+00, Stopped/Resetted Loss: 1.7e-06, \n",
                        "Epoch 1800:   Params Err.: 8.6e-03, y0 error: 0.0e+00, Params Norm: 1.9e+01, iParams Err.: 0.0e+00, iParams Norm: 0.0e+00, Stopped/Resetted Loss: 1.8e-06, \n",
                        "Epoch 1820:   Params Err.: 9.1e-03, y0 error: 0.0e+00, Params Norm: 1.9e+01, iParams Err.: 0.0e+00, iParams Norm: 0.0e+00, Stopped/Resetted Loss: 3.1e-06, \n",
                        "Epoch 1840:   Params Err.: 9.5e-03, y0 error: 0.0e+00, Params Norm: 1.9e+01, iParams Err.: 0.0e+00, iParams Norm: 0.0e+00, Stopped/Resetted Loss: 3.1e-06, \n",
                        "Epoch 1860:   Params Err.: 9.9e-03, y0 error: 0.0e+00, Params Norm: 1.9e+01, iParams Err.: 0.0e+00, iParams Norm: 0.0e+00, Stopped/Resetted Loss: 3.8e-06, \n",
                        "Epoch 1880:   Params Err.: 9.7e-03, y0 error: 0.0e+00, Params Norm: 1.9e+01, iParams Err.: 0.0e+00, iParams Norm: 0.0e+00, Stopped/Resetted Loss: 4.7e-06, \n",
                        "Epoch 1900:   Params Err.: 6.4e-03, y0 error: 0.0e+00, Params Norm: 1.9e+01, iParams Err.: 0.0e+00, iParams Norm: 0.0e+00, Stopped/Resetted Loss: 1.4e-07, \n",
                        "Epoch 1920:   Params Err.: 4.2e-03, y0 error: 0.0e+00, Params Norm: 1.9e+01, iParams Err.: 0.0e+00, iParams Norm: 0.0e+00, Stopped/Resetted Loss: 1.3e-07, \n",
                        "Epoch 1940:   Params Err.: 5.4e-03, y0 error: 0.0e+00, Params Norm: 1.9e+01, iParams Err.: 0.0e+00, iParams Norm: 0.0e+00, Stopped/Resetted Loss: 6.8e-07, \n",
                        "Epoch 1960:   Params Err.: 9.0e-03, y0 error: 0.0e+00, Params Norm: 1.9e+01, iParams Err.: 0.0e+00, iParams Norm: 0.0e+00, Stopped/Resetted Loss: 2.9e-06, \n",
                        "Epoch 1980:   Params Err.: 6.6e-03, y0 error: 0.0e+00, Params Norm: 1.9e+01, iParams Err.: 0.0e+00, iParams Norm: 0.0e+00, Stopped/Resetted Loss: 9.3e-07, \n",
                        "Epoch 2000:   Params Err.: 7.8e-03, y0 error: 0.0e+00, Params Norm: 1.9e+01, iParams Err.: 0.0e+00, iParams Norm: 0.0e+00, Stopped/Resetted Loss: 1.7e-06, \n",
                        "Epoch 2020:   Params Err.: 7.6e-03, y0 error: 0.0e+00, Params Norm: 1.9e+01, iParams Err.: 0.0e+00, iParams Norm: 0.0e+00, Stopped/Resetted Loss: 1.4e-06, \n",
                        "Epoch 2040:   Params Err.: 7.2e-03, y0 error: 0.0e+00, Params Norm: 1.9e+01, iParams Err.: 0.0e+00, iParams Norm: 0.0e+00, Stopped/Resetted Loss: 1.1e-06, \n",
                        "Epoch 2060:   Params Err.: 6.8e-03, y0 error: 0.0e+00, Params Norm: 1.9e+01, iParams Err.: 0.0e+00, iParams Norm: 0.0e+00, Stopped/Resetted Loss: 6.9e-07, \n",
                        "Epoch 2080:   Params Err.: 7.1e-03, y0 error: 0.0e+00, Params Norm: 1.9e+01, iParams Err.: 0.0e+00, iParams Norm: 0.0e+00, Stopped/Resetted Loss: 1.1e-06, \n",
                        "Epoch 2100:   Params Err.: 6.8e-03, y0 error: 0.0e+00, Params Norm: 1.9e+01, iParams Err.: 0.0e+00, iParams Norm: 0.0e+00, Stopped/Resetted Loss: 9.9e-07, \n",
                        "Epoch 2120:   Params Err.: 7.1e-03, y0 error: 0.0e+00, Params Norm: 1.9e+01, iParams Err.: 0.0e+00, iParams Norm: 0.0e+00, Stopped/Resetted Loss: 1.2e-06, \n",
                        "Epoch 2140:   Params Err.: 7.3e-03, y0 error: 0.0e+00, Params Norm: 1.9e+01, iParams Err.: 0.0e+00, iParams Norm: 0.0e+00, Stopped/Resetted Loss: 1.7e-06, \n",
                        "Epoch 2160:   Params Err.: 7.7e-03, y0 error: 0.0e+00, Params Norm: 1.9e+01, iParams Err.: 0.0e+00, iParams Norm: 0.0e+00, Stopped/Resetted Loss: 2.5e-06, \n",
                        "Epoch 2180:   Params Err.: 7.3e-03, y0 error: 0.0e+00, Params Norm: 1.9e+01, iParams Err.: 0.0e+00, iParams Norm: 0.0e+00, Stopped/Resetted Loss: 2.3e-06, \n",
                        "Epoch 2200:   Params Err.: 4.4e-03, y0 error: 0.0e+00, Params Norm: 1.9e+01, iParams Err.: 0.0e+00, iParams Norm: 0.0e+00, Stopped/Resetted Loss: 4.6e-07, \n",
                        "Epoch 2220:   Params Err.: 3.0e-03, y0 error: 0.0e+00, Params Norm: 1.9e+01, iParams Err.: 0.0e+00, iParams Norm: 0.0e+00, Stopped/Resetted Loss: 5.9e-08, \n",
                        "Epoch 2240:   Params Err.: 3.4e-03, y0 error: 0.0e+00, Params Norm: 1.9e+01, iParams Err.: 0.0e+00, iParams Norm: 0.0e+00, Stopped/Resetted Loss: 2.7e-07, \n",
                        "Epoch 2260:   Params Err.: 4.8e-03, y0 error: 0.0e+00, Params Norm: 1.9e+01, iParams Err.: 0.0e+00, iParams Norm: 0.0e+00, Stopped/Resetted Loss: 3.9e-06, \n",
                        "Epoch 2280:   Params Err.: 5.1e-03, y0 error: 0.0e+00, Params Norm: 1.9e+01, iParams Err.: 0.0e+00, iParams Norm: 0.0e+00, Stopped/Resetted Loss: 4.9e-06, \n",
                        "Epoch 2300:   Params Err.: 4.3e-03, y0 error: 0.0e+00, Params Norm: 1.9e+01, iParams Err.: 0.0e+00, iParams Norm: 0.0e+00, Stopped/Resetted Loss: 1.9e-06, \n",
                        "Epoch 2320:   Params Err.: 4.6e-03, y0 error: 0.0e+00, Params Norm: 1.9e+01, iParams Err.: 0.0e+00, iParams Norm: 0.0e+00, Stopped/Resetted Loss: 3.7e-06, \n",
                        "Epoch 2340:   Params Err.: 4.9e-03, y0 error: 0.0e+00, Params Norm: 1.9e+01, iParams Err.: 0.0e+00, iParams Norm: 0.0e+00, Stopped/Resetted Loss: 3.5e-06, \n",
                        "Epoch 2360:   Params Err.: 4.4e-03, y0 error: 0.0e+00, Params Norm: 1.9e+01, iParams Err.: 0.0e+00, iParams Norm: 0.0e+00, Stopped/Resetted Loss: 3.1e-06, \n",
                        "Epoch 2380:   Params Err.: 3.8e-03, y0 error: 0.0e+00, Params Norm: 1.9e+01, iParams Err.: 0.0e+00, iParams Norm: 0.0e+00, Stopped/Resetted Loss: 1.3e-06, \n",
                        "Epoch 2400:   Params Err.: 3.5e-03, y0 error: 0.0e+00, Params Norm: 1.9e+01, iParams Err.: 0.0e+00, iParams Norm: 0.0e+00, Stopped/Resetted Loss: 8.4e-07, \n",
                        "Epoch 2420:   Params Err.: 3.1e-03, y0 error: 0.0e+00, Params Norm: 1.9e+01, iParams Err.: 0.0e+00, iParams Norm: 0.0e+00, Stopped/Resetted Loss: 1.2e-06, \n",
                        "Epoch 2440:   Params Err.: 2.3e-03, y0 error: 0.0e+00, Params Norm: 1.9e+01, iParams Err.: 0.0e+00, iParams Norm: 0.0e+00, Stopped/Resetted Loss: 3.0e-07, \n",
                        "Epoch 2460:   Params Err.: 2.5e-03, y0 error: 0.0e+00, Params Norm: 1.9e+01, iParams Err.: 0.0e+00, iParams Norm: 0.0e+00, Stopped/Resetted Loss: 3.4e-09, \n",
                        "Epoch 2480:   Params Err.: 3.2e-03, y0 error: 0.0e+00, Params Norm: 1.9e+01, iParams Err.: 0.0e+00, iParams Norm: 0.0e+00, Stopped/Resetted Loss: 1.0e-08, \n",
                        "Epoch 2500:   Params Err.: 3.9e-03, y0 error: 0.0e+00, Params Norm: 1.9e+01, iParams Err.: 0.0e+00, iParams Norm: 0.0e+00, Stopped/Resetted Loss: 3.3e-07, \n",
                        "Epoch 2520:   Params Err.: 6.7e-03, y0 error: 0.0e+00, Params Norm: 1.9e+01, iParams Err.: 0.0e+00, iParams Norm: 0.0e+00, Stopped/Resetted Loss: 2.9e-06, \n",
                        "Epoch 2540:   Params Err.: 5.8e-03, y0 error: 0.0e+00, Params Norm: 1.9e+01, iParams Err.: 0.0e+00, iParams Norm: 0.0e+00, Stopped/Resetted Loss: 1.9e-06, \n",
                        "Epoch 2560:   Params Err.: 6.4e-03, y0 error: 0.0e+00, Params Norm: 1.9e+01, iParams Err.: 0.0e+00, iParams Norm: 0.0e+00, Stopped/Resetted Loss: 2.8e-06, \n",
                        "Epoch 2580:   Params Err.: 3.3e-03, y0 error: 0.0e+00, Params Norm: 1.9e+01, iParams Err.: 0.0e+00, iParams Norm: 0.0e+00, Stopped/Resetted Loss: 7.4e-07, \n",
                        "Epoch 2600:   Params Err.: 2.9e-03, y0 error: 0.0e+00, Params Norm: 1.9e+01, iParams Err.: 0.0e+00, iParams Norm: 0.0e+00, Stopped/Resetted Loss: 8.1e-07, \n",
                        "Epoch 2620:   Params Err.: 2.1e-03, y0 error: 0.0e+00, Params Norm: 1.9e+01, iParams Err.: 0.0e+00, iParams Norm: 0.0e+00, Stopped/Resetted Loss: 1.0e-07, \n",
                        "Epoch 2640:   Params Err.: 2.5e-03, y0 error: 0.0e+00, Params Norm: 1.9e+01, iParams Err.: 0.0e+00, iParams Norm: 0.0e+00, Stopped/Resetted Loss: 5.0e-08, \n",
                        "Epoch 2660:   Params Err.: 3.1e-03, y0 error: 0.0e+00, Params Norm: 1.9e+01, iParams Err.: 0.0e+00, iParams Norm: 0.0e+00, Stopped/Resetted Loss: 8.2e-08, \n",
                        "Epoch 2680:   Params Err.: 3.1e-03, y0 error: 0.0e+00, Params Norm: 1.9e+01, iParams Err.: 0.0e+00, iParams Norm: 0.0e+00, Stopped/Resetted Loss: 4.5e-08, \n",
                        "Epoch 2700:   Params Err.: 3.9e-03, y0 error: 0.0e+00, Params Norm: 1.9e+01, iParams Err.: 0.0e+00, iParams Norm: 0.0e+00, Stopped/Resetted Loss: 3.0e-07, \n",
                        "Epoch 2720:   Params Err.: 4.4e-03, y0 error: 0.0e+00, Params Norm: 1.9e+01, iParams Err.: 0.0e+00, iParams Norm: 0.0e+00, Stopped/Resetted Loss: 7.0e-07, \n",
                        "Epoch 2740:   Params Err.: 5.0e-03, y0 error: 0.0e+00, Params Norm: 1.9e+01, iParams Err.: 0.0e+00, iParams Norm: 0.0e+00, Stopped/Resetted Loss: 1.1e-06, \n",
                        "Epoch 2760:   Params Err.: 4.9e-03, y0 error: 0.0e+00, Params Norm: 1.9e+01, iParams Err.: 0.0e+00, iParams Norm: 0.0e+00, Stopped/Resetted Loss: 1.4e-06, \n",
                        "Epoch 2780:   Params Err.: 4.8e-03, y0 error: 0.0e+00, Params Norm: 1.9e+01, iParams Err.: 0.0e+00, iParams Norm: 0.0e+00, Stopped/Resetted Loss: 1.3e-06, \n",
                        "Epoch 2800:   Params Err.: 4.4e-03, y0 error: 0.0e+00, Params Norm: 1.9e+01, iParams Err.: 0.0e+00, iParams Norm: 0.0e+00, Stopped/Resetted Loss: 9.9e-07, \n",
                        "Epoch 2820:   Params Err.: 3.6e-03, y0 error: 0.0e+00, Params Norm: 1.9e+01, iParams Err.: 0.0e+00, iParams Norm: 0.0e+00, Stopped/Resetted Loss: 4.1e-07, \n",
                        "Epoch 2840:   Params Err.: 3.3e-03, y0 error: 0.0e+00, Params Norm: 1.9e+01, iParams Err.: 0.0e+00, iParams Norm: 0.0e+00, Stopped/Resetted Loss: 3.8e-07, \n",
                        "Epoch 2860:   Params Err.: 3.0e-03, y0 error: 0.0e+00, Params Norm: 1.9e+01, iParams Err.: 0.0e+00, iParams Norm: 0.0e+00, Stopped/Resetted Loss: 1.4e-07, \n",
                        "Epoch 2880:   Params Err.: 2.1e-03, y0 error: 0.0e+00, Params Norm: 1.9e+01, iParams Err.: 0.0e+00, iParams Norm: 0.0e+00, Stopped/Resetted Loss: 7.7e-09, \n",
                        "Epoch 2900:   Params Err.: 2.5e-03, y0 error: 0.0e+00, Params Norm: 1.9e+01, iParams Err.: 0.0e+00, iParams Norm: 0.0e+00, Stopped/Resetted Loss: 1.9e-09, \n",
                        "Epoch 2920:   Params Err.: 2.9e-03, y0 error: 0.0e+00, Params Norm: 1.9e+01, iParams Err.: 0.0e+00, iParams Norm: 0.0e+00, Stopped/Resetted Loss: 2.8e-08, \n",
                        "Epoch 2940:   Params Err.: 2.2e-03, y0 error: 0.0e+00, Params Norm: 1.9e+01, iParams Err.: 0.0e+00, iParams Norm: 0.0e+00, Stopped/Resetted Loss: 3.7e-07, \n",
                        "Epoch 2960:   Params Err.: 2.5e-03, y0 error: 0.0e+00, Params Norm: 1.9e+01, iParams Err.: 0.0e+00, iParams Norm: 0.0e+00, Stopped/Resetted Loss: 1.2e-06, \n",
                        "Epoch 2980:   Params Err.: 2.1e-03, y0 error: 0.0e+00, Params Norm: 1.9e+01, iParams Err.: 0.0e+00, iParams Norm: 0.0e+00, Stopped/Resetted Loss: 8.1e-07, \n",
                        "Epoch 2999:   Params Err.: 1.7e-03, y0 error: 0.0e+00, Params Norm: 1.9e+01, iParams Err.: 0.0e+00, iParams Norm: 0.0e+00, Stopped/Resetted Loss: 2.9e-08, \n"
                    ]
                }
            ],
            "source": [
                "N_bodies = 10\n",
                "t_evals = jnp.linspace(0,200,4000)\n",
                "N_sys = 1\n",
                "kwargs_sys = {'N_sys':N_sys, 'N_bodies':N_bodies, 'r_box':3.5*(N_bodies/10)**(1/3)}\n",
                "reset_every = 20\n",
                "t_reset_idcs = tuple([reset_every*i for i in range(int(np.ceil((len(t_evals)-1)/reset_every)))])\n",
                "lower_bound_params = {'masses':1, 'sigmas':0.2}\n",
                "kwargs_adoptODE = {\n",
                "          'lr': 3e-2,\n",
                "          'epochs': 3000,\n",
                "          't_reset_idcs': t_reset_idcs,\n",
                "          'lr_decay': 0.9994,\n",
                "          'lower_b': lower_bound_params,\n",
                "          'atol': 1e-8,\n",
                "          'rtol': 1e-8\n",
                "      }\n",
                "dataset = simple_simulation(n_body_eom_repulsive, t_evals, kwargs_sys, kwargs_adoptODE)\n",
                "\n",
                "params_final, losses, errors, params_history = train_adoptODE(dataset, print_interval=20)"
            ]
        },
        {
            "cell_type": "code",
            "execution_count": 9,
            "metadata": {},
            "outputs": [
                {
                    "data": {
                        "image/png": "[encoded data removed]",
                        "text/plain": [
                            "<Figure size 500x400 with 2 Axes>"
                        ]
                    },
                    "metadata": {},
                    "output_type": "display_data"
                }
            ],
            "source": [
                "#Plot distribution of absolut errors:\n",
                "fig, ax = plt.subplots(figsize=(5,4))\n",
                "ax2 = ax.twinx()\n",
                "ax.boxplot([np.abs(dataset.params['masses']-dataset.params_train['masses']), np.abs(dataset.params['sigmas']-dataset.params_train['sigmas'])])\n",
                "ax.set_yscale('log')\n",
                "ax.set_ylabel(\"Absolute Errors\")\n",
                "ax.set_xticklabels(['Masses', 'Radii'])\n",
                "plt.show()"
            ]
        }
    ],
    "metadata": {
        "kernelspec": {
            "display_name": "Python 3 (ipykernel)",
            "language": "python",
            "name": "python3"
        },
        "language_info": {
            "codemirror_mode": {
                "name": "ipython",
                "version": 3
            },
            "file_extension": ".py",
            "mimetype": "text/x-python",
            "name": "python",
            "nbconvert_exporter": "python",
            "pygments_lexer": "ipython3",
            "version": "3.12.0"
        },
        "vscode": {
            "interpreter": {
                "hash": "bdecebaa822570f6ac7053702463ef727ce3366435726703991fef4885de430e"
            }
        }
    },
    "nbformat": 4,
    "nbformat_minor": 2
}
