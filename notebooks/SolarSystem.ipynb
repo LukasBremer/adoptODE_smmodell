{
    "cells": [
        {
            "cell_type": "markdown",
            "metadata": {},
            "source": [
                "# Gravitational N-body systems (Solar System)\n",
                "In this example the masses of the planets up to jupyter are obtained from their trajectories taken from the NASA Horizons project. (https://ssd.jpl.nasa.gov/horizons/app.html#/)"
            ]
        },
        {
            "cell_type": "code",
            "execution_count": 1,
            "metadata": {},
            "outputs": [],
            "source": [
                "# Because this very small model doesn't profit from parallelization on GPU's, it can be faster to run it on CPU instead.\n",
                "import jax\n",
                "jax.config.update('jax_platform_name', 'cpu')"
            ]
        },
        {
            "cell_type": "code",
            "execution_count": 2,
            "metadata": {},
            "outputs": [],
            "source": [
                "import numpy as np\n",
                "import scipy\n",
                "\n",
                "from jax import jit\n",
                "import jax.numpy as jnp\n",
                "\n",
                "import matplotlib.pyplot as plt\n",
                "\n",
                "from adoptODE import dataset_adoptODE, train_adoptODE\n",
                "\n",
                "G_KM_MJ_D = 2.825e-7 # Newtons gravitational constant, with respect to kilometers, jupiter masses and days"
            ]
        },
        {
            "cell_type": "code",
            "execution_count": 3,
            "metadata": {},
            "outputs": [],
            "source": [
                "# Defining the Equation of Motion:\n",
                "def define_n_body(**kwargs):\n",
                "    def gen_params():\n",
                "        return {'masses_exp_10':scipy.stats.truncnorm.rvs(0,1, size=kwargs['N_bodies'])}, {}, {}\n",
                "\n",
                "    def gen_y0():\n",
                "        return {'positions':scipy.stats.truncnorm.rvs(-0.1,0.1, size=3*kwargs['N_bodies']).reshape((-1,3)), 'velocities':1e-4*scipy.stats.truncnorm.rvs(-5,5, size=3*kwargs['N_bodies']).reshape((-1,3))}\n",
                "\n",
                "    @jit\n",
                "    def eom(y,t,params, iparams, exparams):\n",
                "        valid = 1-np.eye(kwargs['N_bodies'])\n",
                "        dist_vecs = jnp.where(valid[:,:,jnp.newaxis]==1, (y['positions'] - y['positions'][:, jnp.newaxis]), jnp.ones_like(y['positions']))\n",
                "        dists = jnp.linalg.norm(dist_vecs, axis=2)\n",
                "        unit_dist_vecs = dist_vecs/dists[:,:,jnp.newaxis]\n",
                "        dists = jnp.clip(dists, 1e-3, jnp.inf) # Avoid instability if bodies are very close together, e.g. by chance in random initial conditions\n",
                "        masses = 10**params['masses_exp_10']\n",
                "        acc = G_KM_MJ_D*valid[:,:,jnp.newaxis]*unit_dist_vecs * masses[jnp.newaxis,:, jnp.newaxis] / (dists[:,:,jnp.newaxis])**2\n",
                "        total_acc = jnp.sum(acc, axis=1)\n",
                "        return {'positions': y['velocities'], 'velocities':total_acc}\n",
                "\n",
                "    @jit\n",
                "    def loss(ys, params, iparams, exparams, ys_targets):\n",
                "        loss_trajectory = jnp.sum((ys['positions']-jnp.nan_to_num(ys_targets['positions']))**2)+jnp.sum((ys['velocities']-jnp.nan_to_num(ys_targets['velocities']))**2)\n",
                "        return loss_trajectory\n",
                "\n",
                "    return eom, loss, gen_params, gen_y0, {}\n",
                "    "
            ]
        },
        {
            "cell_type": "code",
            "execution_count": 4,
            "metadata": {},
            "outputs": [],
            "source": [
                "# Loading prepared trajectories\n",
                "path = '../data/SolarSystem/' # Contains Sun, Mercury, Venus, Earth, Mars, Jupiter, Saturn, Apophis, Eres (in this order)\n",
                "coords = np.load(path+'Coordinates.npy')\n",
                "vels = np.load(path+'Velocities.npy')\n",
                "t_evals_data = np.load(path+'Times.npy')\n",
                "ys_from_data = {'positions':coords, 'velocities':vels}\n",
                "# The masses a measured in Jupiter masses, and the parameters are the logarithms with base 10 of the masses\n",
                "true_params = {'masses_exp_10':np.log10([1047.5, 1.74e-4, 2.56e-3,3.15e-3,3.38e-4, 1, 2.99e-1, 1e-6, 1e-6])}"
            ]
        },
        {
            "cell_type": "code",
            "execution_count": 5,
            "metadata": {},
            "outputs": [],
            "source": [
                "# Preparing dataset\n",
                "N_sys = 1\n",
                "# For imperfect masses, trajectories will diverge quickly from the true solution. \n",
                "# Hence we use a small value of the reset parameter in order to always look at the derivation of over a small period of time.\n",
                "# Later, after the parameters have been optimized, it is possible to increase this parameter for higher accuracy. As one timestep\n",
                "# corresponds to 20 days, this means we reset to a new starting value every 600 days, roughly 7 orbits of mercury.\n",
                "reset_every = 30\n",
                "kwargs_sys = {'N_sys':N_sys, 'N_bodies':ys_from_data['positions'].shape[2]}\n",
                "t_reset_idcs = tuple([reset_every*i for i in range(int(np.ceil((len(t_evals_data)-1)/reset_every)))])\n",
                "\n",
                "initial_guess_params = {'masses_exp_10':np.array([3.0,-4,-4,-4,-4,0,0,-6,-6])}\n",
                "upper_params_boundary = {'masses_exp_10':np.array([4, 4, 4, 4, 4, 4, 4, -6, -6])}\n",
                "lower_params_boundary = {'masses_exp_10':np.array([-4, -4, -4, -4, -4,-4,-4, -6, -6])}\n",
                "\n",
                "kwargs_adoptODE = {'lr':0.03, 'epochs':100, 't_reset_idcs':t_reset_idcs, 'atol':1e-6, 'rtol':1e-6, 'upper_b':upper_params_boundary, 'lower_b':lower_params_boundary}\n",
                "dataset_data = dataset_adoptODE(define_n_body, ys_from_data, t_evals_data, kwargs_sys, kwargs_adoptODE, params_train=initial_guess_params, true_params=true_params)"
            ]
        },
        {
            "cell_type": "code",
            "execution_count": 6,
            "metadata": {},
            "outputs": [
                {
                    "name": "stdout",
                    "output_type": "stream",
                    "text": [
                        "Epoch 000:   Params Err.: 2.2e+00, y0 error: nan, Params Norm: 1.2e+01, iParams Err.: 0.0e+00, iParams Norm: 0.0e+00, Stopped/Resetted Loss: 3.5e+03, \n",
                        "Epoch 005:   Params Err.: 2.2e+00, y0 error: nan, Params Norm: 1.2e+01, iParams Err.: 0.0e+00, iParams Norm: 0.0e+00, Stopped/Resetted Loss: 1.2e+02, \n",
                        "Epoch 010:   Params Err.: 2.1e+00, y0 error: nan, Params Norm: 1.2e+01, iParams Err.: 0.0e+00, iParams Norm: 0.0e+00, Stopped/Resetted Loss: 8.0e+01, \n",
                        "Epoch 015:   Params Err.: 2.1e+00, y0 error: nan, Params Norm: 1.2e+01, iParams Err.: 0.0e+00, iParams Norm: 0.0e+00, Stopped/Resetted Loss: 5.6e+01, \n",
                        "Epoch 020:   Params Err.: 2.0e+00, y0 error: nan, Params Norm: 1.2e+01, iParams Err.: 0.0e+00, iParams Norm: 0.0e+00, Stopped/Resetted Loss: 1.8e+02, \n",
                        "Epoch 025:   Params Err.: 1.9e+00, y0 error: nan, Params Norm: 1.2e+01, iParams Err.: 0.0e+00, iParams Norm: 0.0e+00, Stopped/Resetted Loss: 1.1e+02, \n",
                        "Epoch 030:   Params Err.: 1.8e+00, y0 error: nan, Params Norm: 1.2e+01, iParams Err.: 0.0e+00, iParams Norm: 0.0e+00, Stopped/Resetted Loss: 8.8e+01, \n",
                        "Epoch 035:   Params Err.: 1.8e+00, y0 error: nan, Params Norm: 1.2e+01, iParams Err.: 0.0e+00, iParams Norm: 0.0e+00, Stopped/Resetted Loss: 3.0e+02, \n",
                        "Epoch 040:   Params Err.: 1.7e+00, y0 error: nan, Params Norm: 1.2e+01, iParams Err.: 0.0e+00, iParams Norm: 0.0e+00, Stopped/Resetted Loss: 3.5e+01, \n",
                        "Epoch 045:   Params Err.: 1.6e+00, y0 error: nan, Params Norm: 1.2e+01, iParams Err.: 0.0e+00, iParams Norm: 0.0e+00, Stopped/Resetted Loss: 1.0e+01, \n",
                        "Epoch 050:   Params Err.: 1.6e+00, y0 error: nan, Params Norm: 1.2e+01, iParams Err.: 0.0e+00, iParams Norm: 0.0e+00, Stopped/Resetted Loss: 2.4e+02, \n",
                        "Epoch 055:   Params Err.: 1.5e+00, y0 error: nan, Params Norm: 1.2e+01, iParams Err.: 0.0e+00, iParams Norm: 0.0e+00, Stopped/Resetted Loss: 5.2e+00, \n",
                        "Epoch 060:   Params Err.: 1.5e+00, y0 error: nan, Params Norm: 1.2e+01, iParams Err.: 0.0e+00, iParams Norm: 0.0e+00, Stopped/Resetted Loss: 6.2e+00, \n",
                        "Epoch 065:   Params Err.: 1.4e+00, y0 error: nan, Params Norm: 1.2e+01, iParams Err.: 0.0e+00, iParams Norm: 0.0e+00, Stopped/Resetted Loss: 1.1e+02, \n",
                        "Epoch 070:   Params Err.: 1.3e+00, y0 error: nan, Params Norm: 1.2e+01, iParams Err.: 0.0e+00, iParams Norm: 0.0e+00, Stopped/Resetted Loss: 4.8e+00, \n",
                        "Epoch 075:   Params Err.: 1.3e+00, y0 error: nan, Params Norm: 1.2e+01, iParams Err.: 0.0e+00, iParams Norm: 0.0e+00, Stopped/Resetted Loss: 7.4e+00, \n",
                        "Epoch 080:   Params Err.: 1.3e+00, y0 error: nan, Params Norm: 1.2e+01, iParams Err.: 0.0e+00, iParams Norm: 0.0e+00, Stopped/Resetted Loss: 4.0e+01, \n",
                        "Epoch 085:   Params Err.: 1.2e+00, y0 error: nan, Params Norm: 1.2e+01, iParams Err.: 0.0e+00, iParams Norm: 0.0e+00, Stopped/Resetted Loss: 4.9e+01, \n",
                        "Epoch 090:   Params Err.: 1.2e+00, y0 error: nan, Params Norm: 1.1e+01, iParams Err.: 0.0e+00, iParams Norm: 0.0e+00, Stopped/Resetted Loss: 1.5e+02, \n",
                        "Epoch 095:   Params Err.: 1.2e+00, y0 error: nan, Params Norm: 1.1e+01, iParams Err.: 0.0e+00, iParams Norm: 0.0e+00, Stopped/Resetted Loss: 9.9e+01, \n",
                        "Epoch 099:   Params Err.: 1.1e+00, y0 error: nan, Params Norm: 1.1e+01, iParams Err.: 0.0e+00, iParams Norm: 0.0e+00, Stopped/Resetted Loss: 1.8e+02, \n"
                    ]
                }
            ],
            "source": [
                "params_final, losses, errors, params_history = train_adoptODE(dataset_data, print_interval=5)"
            ]
        },
        {
            "cell_type": "code",
            "execution_count": 7,
            "metadata": {},
            "outputs": [
                {
                    "data": {
                        "image/png": "[encoded data removed]",
                        "text/plain": [
                            "<Figure size 500x330 with 2 Axes>"
                        ]
                    },
                    "metadata": {},
                    "output_type": "display_data"
                }
            ],
            "source": [
                "Names = ['Sun', '\\nMercury', 'Venus', '\\nEarth', 'Mars', '\\nJupiter', 'Saturn', '\\nApophis', 'Eros']\n",
                "\n",
                "fig, ax1 = plt.subplots(figsize=(5,3.3))\n",
                "xs = np.arange(7)\n",
                "l1 = ax1.bar(xs-0.25, 10**dataset_data.params['masses_exp_10'][:7], width=0.2, label = 'True Mass')\n",
                "# plt.plot(10**Result_int, label = 'Int')\n",
                "l2 = ax1.bar(xs-0.05, 10**dataset_data.params_train['masses_exp_10'][:7], width=0.2, label = 'Recovered Mass')\n",
                "# ax1.legend()\n",
                "ax1.set_xticks(range(7))\n",
                "ax1.set_xticklabels(Names[:7])\n",
                "ax1.set_yscale('log')\n",
                "ax1.set_ylabel(\"Mass in Jupiter Masses\")\n",
                "ax1.set_ylim((0.5e-4, 2e3))\n",
                "\n",
                "\n",
                "ax1b = ax1.twinx()\n",
                "ax1b.hlines(0,-.3,6.3, color='red', linestyles='dashed')\n",
                "l3 = ax1b.bar(xs+0.25, 10**(dataset_data.params_train['masses_exp_10']-dataset_data.params['masses_exp_10'])[:7]-1, width=0.2, color='green', label = 'Relative Error')\n",
                "#ax1b.legend()\n",
                "ax1b.set_ylabel(\"Relative Error\")\n",
                "ax1b.set_ylim((-0.04,0.3))\n",
                "\n",
                "ax1.legend(handles = [l1, l2, l3], bbox_to_anchor=(0.13, 1))\n",
                "plt.tight_layout()\n",
                "plt.show()"
            ]
        },
        {
            "cell_type": "markdown",
            "metadata": {},
            "source": [
                "#### Long trainig for more accurate results"
            ]
        },
        {
            "cell_type": "code",
            "execution_count": 8,
            "metadata": {},
            "outputs": [
                {
                    "name": "stdout",
                    "output_type": "stream",
                    "text": [
                        "Epoch 000:   Params Err.: 2.2e+00, y0 error: nan, Params Norm: 1.2e+01, iParams Err.: 0.0e+00, iParams Norm: 0.0e+00, Stopped/Resetted Loss: 3.5e+03, \n",
                        "Epoch 500:   Params Err.: 1.1e+00, y0 error: nan, Params Norm: 1.1e+01, iParams Err.: 0.0e+00, iParams Norm: 0.0e+00, Stopped/Resetted Loss: 4.0e+01, \n",
                        "Epoch 1000:   Params Err.: 8.2e-01, y0 error: nan, Params Norm: 1.1e+01, iParams Err.: 0.0e+00, iParams Norm: 0.0e+00, Stopped/Resetted Loss: 5.0e+00, \n",
                        "Epoch 1500:   Params Err.: 6.5e-01, y0 error: nan, Params Norm: 1.1e+01, iParams Err.: 0.0e+00, iParams Norm: 0.0e+00, Stopped/Resetted Loss: 5.9e-01, \n",
                        "Epoch 2000:   Params Err.: 5.1e-01, y0 error: nan, Params Norm: 1.1e+01, iParams Err.: 0.0e+00, iParams Norm: 0.0e+00, Stopped/Resetted Loss: 1.3e-01, \n",
                        "Epoch 2500:   Params Err.: 3.9e-01, y0 error: nan, Params Norm: 1.1e+01, iParams Err.: 0.0e+00, iParams Norm: 0.0e+00, Stopped/Resetted Loss: 1.1e-01, \n",
                        "Epoch 3000:   Params Err.: 3.0e-01, y0 error: nan, Params Norm: 1.1e+01, iParams Err.: 0.0e+00, iParams Norm: 0.0e+00, Stopped/Resetted Loss: 1.1e-01, \n",
                        "Epoch 3500:   Params Err.: 2.4e-01, y0 error: nan, Params Norm: 1.1e+01, iParams Err.: 0.0e+00, iParams Norm: 0.0e+00, Stopped/Resetted Loss: 6.8e-02, \n",
                        "Epoch 4000:   Params Err.: 2.1e-01, y0 error: nan, Params Norm: 1.1e+01, iParams Err.: 0.0e+00, iParams Norm: 0.0e+00, Stopped/Resetted Loss: 6.7e-02, \n",
                        "Epoch 4500:   Params Err.: 1.9e-01, y0 error: nan, Params Norm: 1.1e+01, iParams Err.: 0.0e+00, iParams Norm: 0.0e+00, Stopped/Resetted Loss: 6.6e-02, \n",
                        "Epoch 5000:   Params Err.: 1.8e-01, y0 error: nan, Params Norm: 1.1e+01, iParams Err.: 0.0e+00, iParams Norm: 0.0e+00, Stopped/Resetted Loss: 6.6e-02, \n",
                        "Epoch 5500:   Params Err.: 1.7e-01, y0 error: nan, Params Norm: 1.1e+01, iParams Err.: 0.0e+00, iParams Norm: 0.0e+00, Stopped/Resetted Loss: 6.5e-02, \n",
                        "Epoch 6000:   Params Err.: 1.7e-01, y0 error: nan, Params Norm: 1.1e+01, iParams Err.: 0.0e+00, iParams Norm: 0.0e+00, Stopped/Resetted Loss: 6.6e-02, \n"
                    ]
                }
            ],
            "source": [
                "# First round of training, reset every 30 steps\n",
                "\n",
                "N_sys = 1\n",
                "\n",
                "reset_every = 30\n",
                "kwargs_sys = {'N_sys':N_sys, 'N_bodies':ys_from_data['positions'].shape[2]}\n",
                "t_reset_idcs = tuple([reset_every*i for i in range(int(np.ceil((len(t_evals_data)-1)/reset_every)))])\n",
                "\n",
                "initial_guess_params = {'masses_exp_10':np.array([3.0,-4,-4,-4,-4,0,0,-6,-6])}\n",
                "upper_params_boundary = {'masses_exp_10':np.array([4, 4, 4, 4, 4, 4, 4, -6, -6])}\n",
                "lower_params_boundary = {'masses_exp_10':np.array([-4, -4, -4, -4, -4,-4,-4, -6, -6])}\n",
                "\n",
                "kwargs_adoptODE = {'lr':0.03, 'lr_decay':0.9985, 'epochs':10000, 't_reset_idcs':t_reset_idcs, 'atol':1e-8, 'rtol':1e-8, 'upper_b':upper_params_boundary, 'lower_b':lower_params_boundary}#'lr_decay':0.999, 'epochs':6000\n",
                "dataset_data = dataset_adoptODE(define_n_body, ys_from_data, t_evals_data, kwargs_sys, kwargs_adoptODE, params_train=initial_guess_params, true_params=true_params)\n",
                "\n",
                "params_final, losses, errors, params_history = train_adoptODE(dataset_data, print_interval=500)"
            ]
        },
        {
            "cell_type": "code",
            "execution_count": null,
            "metadata": {},
            "outputs": [],
            "source": [
                "# Second round of training, reset every 40 steps\n",
                "\n",
                "N_sys = 1\n",
                "reset_every = 40\n",
                "t_reset_idcs = tuple([reset_every*i for i in range(int(np.ceil((len(t_evals_data)-1)/reset_every)))])\n",
                "kwargs_adoptODE = {'lr':0.0003, 'lr_decay':0.997, 'epochs':2000, 't_reset_idcs':t_reset_idcs, 'atol':1e-9, 'rtol':1e-9, 'upper_b':upper_params_boundary, 'lower_b':lower_params_boundary}\n",
                "\n",
                "# Generate a new dataset, but use the result of the last training period as initial guess:\n",
                "dataset_data = dataset_adoptODE(define_n_body, ys_from_data, t_evals_data, kwargs_sys, kwargs_adoptODE, params_train=dataset_data.params_train, true_params=true_params)\n",
                "params_final, losses, errors, params_history = train_adoptODE(dataset_data, print_interval=150)\n",
                "print(\"Final params: \", dataset_data.params_train)"
            ]
        },
        {
            "cell_type": "code",
            "execution_count": null,
            "metadata": {},
            "outputs": [],
            "source": [
                "Names = ['Sun', '\\nMercury', 'Venus', '\\nEarth', 'Mars', '\\nJupiter', 'Saturn', '\\nApophis', 'Eros']\n",
                "\n",
                "fig, ax1 = plt.subplots(figsize=(5,3.3))\n",
                "xs = np.arange(7)\n",
                "l1 = ax1.bar(xs-0.25, 10**dataset_data.params['masses_exp_10'][:7], width=0.2, label = 'True Mass')\n",
                "# plt.plot(10**Result_int, label = 'Int')\n",
                "l2 = ax1.bar(xs-0.05, 10**dataset_data.params_train['masses_exp_10'][:7], width=0.2, label = 'Recovered Mass')\n",
                "# ax1.legend()\n",
                "ax1.set_xticks(range(7))\n",
                "ax1.set_xticklabels(Names[:7])\n",
                "ax1.set_yscale('log')\n",
                "ax1.set_ylabel(\"Mass in Jupiter Masses\")\n",
                "ax1.set_ylim((0.5e-4, 2e3))\n",
                "\n",
                "\n",
                "ax1b = ax1.twinx()\n",
                "ax1b.hlines(0,-.3,6.3, color='red', linestyles='dashed')\n",
                "l3 = ax1b.bar(xs+0.25, 10**(dataset_data.params_train['masses_exp_10']-dataset_data.params['masses_exp_10'])[:7]-1, width=0.2, color='green', label = 'Relative Error')\n",
                "#ax1b.legend()\n",
                "ax1b.set_ylabel(\"Relative Error\")\n",
                "ax1b.set_ylim((-0.04,0.3))\n",
                "\n",
                "ax1.legend(handles = [l1, l2, l3], bbox_to_anchor=(0.13, 1))\n",
                "plt.tight_layout()\n",
                "plt.show()"
            ]
        },
        {
            "cell_type": "code",
            "execution_count": null,
            "metadata": {},
            "outputs": [],
            "source": []
        }
    ],
    "metadata": {
        "kernelspec": {
            "display_name": "Python 3 (ipykernel)",
            "language": "python",
            "name": "python3"
        },
        "language_info": {
            "codemirror_mode": {
                "name": "ipython",
                "version": 3
            },
            "file_extension": ".py",
            "mimetype": "text/x-python",
            "name": "python",
            "nbconvert_exporter": "python",
            "pygments_lexer": "ipython3",
            "version": "3.12.0"
        },
        "vscode": {
            "interpreter": {
                "hash": "bdecebaa822570f6ac7053702463ef727ce3366435726703991fef4885de430e"
            }
        }
    },
    "nbformat": 4,
    "nbformat_minor": 2
}
