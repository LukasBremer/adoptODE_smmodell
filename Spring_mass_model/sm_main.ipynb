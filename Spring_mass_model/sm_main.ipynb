{
 "cells": [
  {
   "cell_type": "code",
   "execution_count": 1,
   "metadata": {},
   "outputs": [],
   "source": [
    "import jax.numpy as jnp\n",
    "from jax import jit \n",
    "from jax.flatten_util import ravel_pytree\n",
    "\n",
    "import numpy as np\n",
    "import scipy\n",
    "import matplotlib.pyplot as plt\n",
    "import interpax\n",
    "\n",
    "from adoptODE import train_adoptODE, simple_simulation\n",
    "from mechanics import *\n",
    "from data_reading import *\n",
    "import progressbar"
   ]
  },
  {
   "cell_type": "code",
   "execution_count": 2,
   "metadata": {},
   "outputs": [
    {
     "name": "stderr",
     "output_type": "stream",
     "text": [
      "  3% |##                                                                      |\r"
     ]
    },
    {
     "name": "stdout",
     "output_type": "stream",
     "text": [
      "Preparing data...\n",
      "Reading data...\n",
      "shape of data:  (2000, 2, 101, 101)\n"
     ]
    },
    {
     "name": "stderr",
     "output_type": "stream",
     "text": [
      "100% |########################################################################|\n",
      "  3% |##                                                                      |\r"
     ]
    },
    {
     "name": "stdout",
     "output_type": "stream",
     "text": [
      "shape of data:  (2000, 2, 101, 101)\n"
     ]
    },
    {
     "name": "stderr",
     "output_type": "stream",
     "text": [
      "100% |########################################################################|\n",
      "  2% |#                                                                       |\r"
     ]
    },
    {
     "name": "stdout",
     "output_type": "stream",
     "text": [
      "shape of data:  (1, 2000, 100, 100)\n"
     ]
    },
    {
     "name": "stderr",
     "output_type": "stream",
     "text": [
      "100% |########################################################################|\n"
     ]
    }
   ],
   "source": [
    "l_a = 0.8876\n",
    "t=0\n",
    "true_params = {'k_g':1, 'l_g':1,'eta':.5,'k_a':1,'k_p':1,'l_p':1}\n",
    "\n",
    "N = 0\n",
    "size = 100\n",
    "mode = \"chaos\"\n",
    "\n",
    "\"\"\"\n",
    "    Reads in necessary parameters from config.ini\n",
    "\"\"\"\n",
    "\n",
    "print(\"Preparing data...\")\n",
    "N,size,[] = read_config([])\n",
    "\n",
    "print(\"Reading data...\")\n",
    "x_temp = read_vector(\"../data/SpringMassModel/x.csv\",(N,2,size+1,size+1))\n",
    "x_cm_temp = read_vector(\"../data/SpringMassModel/x_cm.csv\",(N,2,size+1,size+1))\n",
    "T = read_scalar(\"../data/SpringMassModel/T.csv\",(1,N,size,size))[0]"
   ]
  },
  {
   "cell_type": "code",
   "execution_count": 3,
   "metadata": {},
   "outputs": [],
   "source": [
    "def define_system(**kwargs_sys):\n",
    "\n",
    "    #bounds for parameters\n",
    "    nu_min, nu_max = kwargs_sys['nu_min'], kwargs_sys['nu_max']\n",
    "    m_min, m_max = kwargs_sys['m_min'], kwargs_sys['m_max']\n",
    "    l_g_min, l_g_max = kwargs_sys['l_g_min'], kwargs_sys['l_g_max']\n",
    "    l_p_min, l_p_max = kwargs_sys['l_p_min'], kwargs_sys['l_p_max']\n",
    "    k_g_min, k_g_max = kwargs_sys['k_g_min'], kwargs_sys['k_g_max']\n",
    "    k_a_min, k_a_max = kwargs_sys['k_a_min'], kwargs_sys['k_a_max']\n",
    "    k_p_min, k_p_max = kwargs_sys['k_p_min'], kwargs_sys['k_p_max']\n",
    "    eta_min, eta_max = kwargs_sys['eta_min'], kwargs_sys['eta_max']\n",
    "\n",
    "    # Interpolated params and coresponding time \n",
    "    t_interp = kwargs_sys['t_interp']\n",
    "    N_interp = kwargs_sys['N_interp']\n",
    "    x_cm_arr = kwargs_sys['x_cm']\n",
    "    x_j_arr = kwargs_sys['x_j']\n",
    "    l_a_arr = kwargs_sys['l_a']\n",
    "    \n",
    "\n",
    "    def gen_y0():\n",
    "\n",
    "        #takes initial conditions from kwargs(data)\n",
    "        x1_0 = kwargs_sys['x1_0']\n",
    "        x2_0 = kwargs_sys['x2_0']\n",
    "        y1_0 = kwargs_sys['y1_0']\n",
    "        y2_0 = kwargs_sys['y2_0']\n",
    "\n",
    "        return {'x1':x1_0, 'x2':x2_0, 'y1':y1_0, 'y2':y2_0}\n",
    "\n",
    "    def gen_params():\n",
    "\n",
    "        nu = nu_min + (nu_max - nu_min) * np.random.rand()\n",
    "        m = m_min + (m_max - m_min) * np.random.rand()\n",
    "\n",
    "        l_g = l_g_min + (l_g_max - l_g_min) * np.random.rand()\n",
    "        l_p = l_p_min + (l_p_max - l_p_min) * np.random.rand()\n",
    "\n",
    "        k_g = k_g_min + (k_g_max - k_g_min) * np.random.rand()\n",
    "        k_a = k_a_min + (k_a_max - k_a_min) * np.random.rand()\n",
    "        k_p = k_p_min + (k_p_max - k_p_min) * np.random.rand()\n",
    "        \n",
    "        eta = eta_min + (eta_max - eta_min) * np.random.rand()\n",
    "\n",
    "        return {'nu':nu,'m':m,'l_g':l_g,'l_p':l_p,'k_g':k_g, 'k_a':k_a,'k_p':k_p, 'eta':eta}, {}, {}\n",
    "\n",
    "        \n",
    "    @jit\n",
    "    def eom(xy, t, params, iparams, exparams):\n",
    "\n",
    "        # get interpolated parameters at corresponding time\n",
    "        x_cm = t_to_value_4p(x_cm_arr,t_interp,t,N_interp)\n",
    "        x_j = t_to_value_4p(x_j_arr,t_interp,t,N_interp)\n",
    "        l_a = t_to_value_1p(l_a_arr,t_interp,t,N_interp)\n",
    "\n",
    "        #initialize total force\n",
    "        f = total_force(x, x_j, x_cm, l_a, t, params)\n",
    "\n",
    "        #initialize eom\n",
    "        dx1 = xy['y1']\n",
    "        dx2 = xy['y2']\n",
    "        dy1 = 1/params['m'] * (f[1] - params['nu'] * xy['y1'])\n",
    "        dy2 = 1/params['m'] * (f[2] - params['nu'] * xy['y2'])\n",
    "\n",
    "        return {'x1':dx1, 'x2':dx2, 'y1':dy1, 'y2':dy2}\n",
    "\n",
    "    @jit\n",
    "    def loss(xy, params, iparams, exparams, targets):\n",
    "        \n",
    "        x1 = xy['x1']\n",
    "        x2 = xy['x2']\n",
    "        t_x1 = targets['x1']\n",
    "        t_x2 = targets['x2']\n",
    "        return jnp.mean((x1-t_x1)**2 + (x1-t_x1)**2)\n",
    "\n",
    "    return eom, loss, gen_params, gen_y0, {}"
   ]
  },
  {
   "cell_type": "code",
   "execution_count": 19,
   "metadata": {},
   "outputs": [],
   "source": [
    "N,size,ls = read_config([\"l_0\",\"c_a\",\"k_ij\",\"k_j\",\"k_a\",\"m\",\"c_damp\",\"n_0\",\"delta_t_m\",\"it_m\"])\n",
    "l_0, c_a, k_g0, k_p0, k_a0, m0, nu0, eta0, delta_t_m, it_m = ls\n",
    "l_a0,l_p0,l_g0 = l_0, l_0, l_0\n",
    "\n",
    "delta_t = delta_t_m * it_m\n",
    "t_eval = jnp.linspace(0,2000*delta_t,2000)\n",
    "N_interp = 5\n",
    "\n",
    "x_i,x_j,x_cm,l_a = shape_input_for_adoptode(x_temp, x_cm_temp,T,50,50) #the last two variables define the cell in the grid \n",
    "t_interp, x_cm_interp = interpolate_x(x_cm,t_eval,N_interp)\n",
    "t_interp, x_j_interp = interpolate_x(x_j,t_eval,N_interp)\n",
    "t_interp, l_a_interp = interpolate_scalar(l_a,t_eval,N_interp)"
   ]
  },
  {
   "cell_type": "code",
   "execution_count": 20,
   "metadata": {},
   "outputs": [],
   "source": [
    "kwargs_sys = { \n",
    "    'nu_min': nu0 - nu0 * 0.1,'nu_max': nu0 + nu0 * 0.1,\n",
    "    'm_min': m0 - m0 * 0.1,'m_max' : m0 + m0 * 0.1,\n",
    "    'l_g_min': l_g0 - l_g0 * 0.1,'l_g_max': l_g0 + l_g0 * 0.1,\n",
    "    'l_p_min': l_p0 - l_p0 * 0.1,'l_p_max': l_p0 + l_p0 * 0.1,\n",
    "    'k_g_min': k_g0 - k_g0 * 0.1,'k_g_max': k_g0 + k_g0 * 0.1,\n",
    "    'k_p_min': k_p0 - k_p0 * 0.1,'k_p_max': k_p0 + k_p0 * 0.1,\n",
    "    'k_a_min': k_a0 - k_a0 * 0.1,'k_a_max': k_a0 + k_a0 * 0.1,\n",
    "    'eta_min': eta0 - eta0 * 0.1,'eta_max': eta0 + eta0 * 0.1,\n",
    "    't_interp': t_interp,\n",
    "    'N_interp': N_interp,\n",
    "    'x_cm':x_cm_interp,\n",
    "    'x_j':x_j_interp,\n",
    "    'l_a':l_a_interp,\n",
    "    'x1_0':x_i[0,0],\n",
    "    'x2_0':x_i[0,1],\n",
    "    'y1_0':(x_i[1,0]-x_i[0,0])/delta_t,\n",
    "    'y2_0':(x_i[1,1]-x_i[0,1])/delta_t\n",
    "}\n"
   ]
  },
  {
   "cell_type": "code",
   "execution_count": null,
   "metadata": {},
   "outputs": [],
   "source": []
  }
 ],
 "metadata": {
  "kernelspec": {
   "display_name": ".adoptodevenv",
   "language": "python",
   "name": "python3"
  },
  "language_info": {
   "codemirror_mode": {
    "name": "ipython",
    "version": 3
   },
   "file_extension": ".py",
   "mimetype": "text/x-python",
   "name": "python",
   "nbconvert_exporter": "python",
   "pygments_lexer": "ipython3",
   "version": "3.9.13"
  }
 },
 "nbformat": 4,
 "nbformat_minor": 2
}
