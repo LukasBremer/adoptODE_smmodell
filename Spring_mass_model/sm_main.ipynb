{
 "cells": [
  {
   "cell_type": "code",
   "execution_count": 1,
   "metadata": {},
   "outputs": [],
   "source": [
    "import jax.numpy as jnp\n",
    "from jax import jit \n",
    "from jax.flatten_util import ravel_pytree\n",
    "\n",
    "import numpy as np\n",
    "import scipy\n",
    "import matplotlib.pyplot as plt\n",
    "import interpax\n",
    "\n",
    "from adoptODE import train_adoptODE, simple_simulation, dataset_adoptODE\n",
    "from mechanics import *\n",
    "from data_reading import *\n",
    "import progressbar"
   ]
  },
  {
   "cell_type": "code",
   "execution_count": 2,
   "metadata": {},
   "outputs": [
    {
     "name": "stderr",
     "output_type": "stream",
     "text": [
      "  3% |##                                                                      |\r"
     ]
    },
    {
     "name": "stdout",
     "output_type": "stream",
     "text": [
      "Preparing data...\n",
      "Reading data...\n",
      "shape of data:  (2000, 2, 101, 101)\n"
     ]
    },
    {
     "name": "stderr",
     "output_type": "stream",
     "text": [
      "100% |########################################################################|\n",
      "  2% |#                                                                       |\r"
     ]
    },
    {
     "name": "stdout",
     "output_type": "stream",
     "text": [
      "shape of data:  (2000, 2, 101, 101)\n"
     ]
    },
    {
     "name": "stderr",
     "output_type": "stream",
     "text": [
      "100% |########################################################################|\n",
      "  2% |#                                                                       |\r"
     ]
    },
    {
     "name": "stdout",
     "output_type": "stream",
     "text": [
      "shape of data:  (1, 2000, 100, 100)\n"
     ]
    },
    {
     "name": "stderr",
     "output_type": "stream",
     "text": [
      "100% |########################################################################|\n",
      "  2% |#                                                                       |\r"
     ]
    },
    {
     "name": "stdout",
     "output_type": "stream",
     "text": [
      "shape of data:  (2000, 2, 101, 101)\n"
     ]
    },
    {
     "name": "stderr",
     "output_type": "stream",
     "text": [
      "100% |########################################################################|\n"
     ]
    }
   ],
   "source": [
    "N = 0\n",
    "size = 100\n",
    "mode = \"chaos\"\n",
    "\n",
    "\"\"\"\n",
    "    Reads in necessary parameters from config.ini\n",
    "\"\"\"\n",
    "\n",
    "print(\"Preparing data...\")\n",
    "N,size,[] = read_config([])\n",
    "\n",
    "print(\"Reading data...\")\n",
    "x_temp = read_vector(\"../data/SpringMassModel/x.csv\",(N,2,size+1,size+1))\n",
    "x_cm_temp = read_vector(\"../data/SpringMassModel/x_cm.csv\",(N,2,size+1,size+1))\n",
    "T = read_scalar(\"../data/SpringMassModel/T.csv\",(1,N,size,size))[0]\n",
    "f = read_vector(\"../data/SpringMassModel/f.csv\",(N,2,size+1,size+1))"
   ]
  },
  {
   "cell_type": "code",
   "execution_count": 23,
   "metadata": {},
   "outputs": [],
   "source": [
    "def define_system(**kwargs_sys):\n",
    "\n",
    "    #bounds for parameters\n",
    "    nu_min, nu_max = kwargs_sys['nu_min'], kwargs_sys['nu_max']\n",
    "    m_min, m_max = kwargs_sys['m_min'], kwargs_sys['m_max']\n",
    "    l_g_min, l_g_max = kwargs_sys['l_g_min'], kwargs_sys['l_g_max']\n",
    "    l_p_min, l_p_max = kwargs_sys['l_p_min'], kwargs_sys['l_p_max']\n",
    "    k_g_min, k_g_max = kwargs_sys['k_g_min'], kwargs_sys['k_g_max']\n",
    "    k_a_min, k_a_max = kwargs_sys['k_a_min'], kwargs_sys['k_a_max']\n",
    "    k_p_min, k_p_max = kwargs_sys['k_p_min'], kwargs_sys['k_p_max']\n",
    "    eta_min, eta_max = kwargs_sys['eta_min'], kwargs_sys['eta_max']\n",
    "\n",
    "    # Interpolated params and coresponding time ,\n",
    "    x_cm_arr = kwargs_sys['x_cm']\n",
    "    x_j_arr = kwargs_sys['x_j']\n",
    "    l_a_arr = kwargs_sys['l_a']\n",
    "    t_interp = kwargs_sys['t_interp']\n",
    "\n",
    "    def gen_y0():\n",
    "\n",
    "        #takes initial conditions from kwargs(data)\n",
    "        x1_0 = kwargs_sys['x1_0']\n",
    "        x2_0 = kwargs_sys['x2_0']\n",
    "        y1_0 = kwargs_sys['y1_0']\n",
    "        y2_0 = kwargs_sys['y2_0']\n",
    "\n",
    "        return {'x1':x1_0, 'x2':x2_0, 'y1':y1_0, 'y2':y2_0}\n",
    "\n",
    "    def gen_params():\n",
    "\n",
    "        nu = nu_min + (nu_max - nu_min) * np.random.rand()\n",
    "        m = m_min + (m_max - m_min) * np.random.rand()\n",
    "\n",
    "        l_g = l_g_min + (l_g_max - l_g_min) * np.random.rand()\n",
    "        l_p = l_p_min + (l_p_max - l_p_min) * np.random.rand()\n",
    "\n",
    "        k_g = k_g_min + (k_g_max - k_g_min) * np.random.rand()\n",
    "        k_a = k_a_min + (k_a_max - k_a_min) * np.random.rand()\n",
    "        k_p = k_p_min + (k_p_max - k_p_min) * np.random.rand()\n",
    "        \n",
    "        eta = eta_min + (eta_max - eta_min) * np.random.rand()\n",
    "\n",
    "        return {'nu':nu,'m':m,'l_g':l_g,'l_p':l_p,'k_g':k_g, 'k_a':k_a,'k_p':k_p, 'eta':eta}, {}, {}\n",
    "\n",
    "        \n",
    "    @jit\n",
    "    def eom(xy, t, params, iparams, exparams):\n",
    "        x = jnp.array([xy['x1'], xy['x2']])\n",
    "        # get interpolated parameters at corresponding time\n",
    "        x_cm = t_to_value_4p(x_cm_arr,t_interp,t)\n",
    "        x_j = t_to_value_4p(x_j_arr,t_interp,t)\n",
    "        l_a = t_to_value_1p(l_a_arr,t_interp,t)\n",
    "\n",
    "        #initialize total force\n",
    "        f = total_force(x, x_j, x_cm, l_a, t, params)\n",
    "\n",
    "        #initialize eom\n",
    "        dx1 = xy['y1']\n",
    "        dx2 = xy['y2']\n",
    "        dy1 = 1/params['m'] * (f[0] - params['nu'] * xy['y1'])\n",
    "        dy2 = 1/params['m'] * (f[1] - params['nu'] * xy['y2'])\n",
    "\n",
    "        return {'x1':dx1, 'x2':dx2, 'y1':dy1, 'y2':dy2}\n",
    "\n",
    "    @jit\n",
    "    def loss(xy, params, iparams, exparams, targets):\n",
    "        \n",
    "        x1 = xy['x1']\n",
    "        x2 = xy['x2']\n",
    "        t_x1 = targets['x1']\n",
    "        t_x2 = targets['x2']\n",
    "        return jnp.nanmean((x1-t_x1)**2 + (x2-t_x2)**2)\n",
    "\n",
    "    return eom, loss, gen_params, gen_y0, {}"
   ]
  },
  {
   "cell_type": "code",
   "execution_count": 24,
   "metadata": {},
   "outputs": [
    {
     "name": "stdout",
     "output_type": "stream",
     "text": [
      "(4, 2000)\n"
     ]
    }
   ],
   "source": [
    "N,size,ls = read_config([\"l_0\",\"c_a\",\"k_ij\",\"k_j\",\"k_a\",\"m\",\"c_damp\",\"n_0\",\"delta_t_m\",\"it_m\",\"pad\"])\n",
    "l_0, c_a, k_g0, k_p0, k_a0, m0, nu0, eta0, delta_t_m, it_m, pad = ls\n",
    "l_a0,l_p0,l_g0 = l_0, l_0, l_0\n",
    "\n",
    "real_params = {'l_a':l_a0,'l_p':l_p0,'l_g':l_g0,'c_a':c_a,'k_g':k_g0,'k_p':k_p0,'k_a':k_a0,'m':m0,'nu':nu0,'eta':eta0}\n",
    "\n",
    "delta_t = delta_t_m * it_m\n",
    "t_evals = jnp.linspace(0,2000*delta_t,2000)\n",
    "N_interp = 50\n",
    "\n",
    "x_i,x_j,x_cm,l_a = shape_input_for_adoptode(x_temp, x_cm_temp,T,50,50) #the last two variables define the cell in the grid \n",
    "t_interp, x_cm_interp = interpolate_x(x_cm,t_evals,N_interp)\n",
    "t_interp, x_j_interp = interpolate_x(x_j,t_evals,N_interp)\n",
    "t_interp, l_a_interp = interpolate_scalar(l_a,t_evals,N_interp)\n",
    "\n",
    "y0 = {\"x1\":x_i[0,0],'x2':x_i[0,1],'y1':(x_i[1,0]-x_i[0,0])/delta_t,'y2':(x_i[1,1]-x_i[0,1])/delta_t,'x_cm':x_cm[:,0,:],'x_j':x_j[:,0,:]}\n"
   ]
  },
  {
   "cell_type": "code",
   "execution_count": 26,
   "metadata": {},
   "outputs": [],
   "source": [
    "rel_err = 0\n",
    "kwargs_sys = { \n",
    "    'nu_min': nu0 - nu0 *rel_err,'nu_max': nu0 + nu0 *rel_err,\n",
    "    'm_min': m0 - m0 *rel_err,'m_max' : m0 + m0 *rel_err,\n",
    "    'l_g_min': l_g0 - l_g0 *rel_err,'l_g_max': l_g0 + l_g0 *rel_err,\n",
    "    'l_p_min': l_p0 - l_p0 *rel_err,'l_p_max': l_p0 + l_p0 *rel_err,\n",
    "    'k_g_min': k_g0 - k_g0 *rel_err,'k_g_max': k_g0 + k_g0 *rel_err,\n",
    "    'k_p_min': k_p0 - k_p0 *rel_err,'k_p_max': k_p0 + k_p0 *rel_err,\n",
    "    'k_a_min': k_a0 - k_a0 *rel_err,'k_a_max': k_a0 + k_a0 *rel_err,\n",
    "    'eta_min': eta0 - eta0 *rel_err,'eta_max': eta0 + eta0 *rel_err,\n",
    "    't_interp': t_interp,\n",
    "    'N_interp': N_interp,\n",
    "    'x_cm':x_cm_interp,\n",
    "    'x_j':x_j_interp,\n",
    "    'l_a':l_a_interp,\n",
    "    'x1_0':x_i[0,0],\n",
    "    'x2_0':x_i[0,1],\n",
    "    'y1_0':(x_i[1,0]-x_i[0,0])/delta_t,\n",
    "    'y2_0':(x_i[1,1]-x_i[0,1])/delta_t,\n",
    "    'N_sys': 1\n",
    "}\n",
    "tol = .5\n",
    "real_params_low = {'l_a':l_a0- l_a0*tol,'l_p':l_p0- l_p0*tol,'l_g':l_g0- l_g0*tol,'c_a':c_a - c_a*tol,'k_g':k_g0- k_g0*tol,'k_p':k_p0- k_p0*tol,'k_a':k_a0- k_a0*tol,'m':m0- m0*tol,'nu':nu0- nu0*tol,'eta':eta0- eta0*tol}\n",
    "real_params_up = {'l_a':l_a0+ l_a0*tol,'l_p':l_p0+ l_p0*tol,'l_g':l_g0+ l_g0*tol,'c_a':c_a + c_a*tol,'k_g':k_g0+ k_g0*tol,'k_p':k_p0+ k_p0*tol,'k_a':k_a0+ k_a0*tol,'m':m0+ m0*tol,'nu':nu0+ nu0*tol,'eta':eta0+ eta0*tol}\n",
    "kwargs_adoptODE = {'lr':3e-2, 'epochs':200,'N_backups':5,\n",
    "                   'lower_b_y0':{'x1':y0['x1'],'x2':y0['x2'],'y1':y0['y1']-0.1*y0['y1'],'y2':y0['y2']-0.1*y0['y2'] },\n",
    "                   'upper_b_y0':{'x1':y0['x1'],'x2':y0['x2'],'y1':y0['y1']+0.1*y0['y1'],'y2':y0['y2']+0.1*y0['y2'] }\n",
    "                   }\n",
    "dataset = simple_simulation(define_system,\n",
    "                                t_evals,\n",
    "                                kwargs_sys,\n",
    "                                kwargs_adoptODE)\n"
   ]
  },
  {
   "cell_type": "code",
   "execution_count": 27,
   "metadata": {},
   "outputs": [],
   "source": [
    "def euler_step(xy,t,real_params):\n",
    "    dxy = sm_eom(xy,t,real_params)\n",
    "\n",
    "    x1 = xy['x1'] + dxy['x1'] * delta_t_m\n",
    "    x2 = xy['x2'] + dxy['x2'] * delta_t_m\n",
    "    y1 = xy['y1'] + dxy['y1'] * delta_t_m   \n",
    "    y2 = xy['y2'] + dxy['y2'] * delta_t_m\n",
    "\n",
    "    xy = {'x1':x1,'x2':x2,'y1':y1,'y2':y2}\n",
    "    t = t + delta_t_m\n",
    "\n",
    "    return xy, t\n",
    "\n",
    "\n",
    "def sm_eom(xy, t, params):\n",
    "    x = jnp.array([xy['x1'], xy['x2']])\n",
    "    # get interpolated parameters at corresponding time\n",
    "    x_cm_temp = t_to_value_4p(x_cm_interp,t_interp,t)\n",
    "    x_j_temp = t_to_value_4p(x_j_interp,t_interp,t)\n",
    "    l_a_temp = t_to_value_1p(l_a_interp,t_interp,t)\n",
    "\n",
    "    #initialize total force\n",
    "    f = total_force(x, x_j_temp, x_cm_temp, l_a_temp, t, params)\n",
    "    print(f.shape)\n",
    "    plt.scatter(t,f[0],color = 'red')\n",
    "\n",
    "    #initialize eom\n",
    "    dx1 = xy['y1']\n",
    "    dx2 = xy['y2']\n",
    "    dy1 = 1/params['m'] * (f[0] - params['nu'] * xy['y1'])\n",
    "    dy2 = 1/params['m'] * (f[1] - params['nu'] * xy['y2'])\n",
    "\n",
    "    return {'x1':dx1, 'x2':dx2, 'y1':dy1, 'y2':dy2}\n",
    "\n",
    "def euler(xy0,iterations,real_params):\n",
    "#returns a list of all iterations of the system after iterating the euler method\n",
    "    xy = xy0\n",
    "    t = 0\n",
    "    xy_list = [xy['x1']]\n",
    "    t_list = [t]\n",
    "    for i in range(iterations):\n",
    "        xy, t = euler_step(xy,t,real_params)\n",
    "        t_list.append(t)\n",
    "        xy_list.append(xy['x1'])\n",
    "    return xy_list,t_list\n"
   ]
  },
  {
   "cell_type": "code",
   "execution_count": 29,
   "metadata": {},
   "outputs": [
    {
     "name": "stdout",
     "output_type": "stream",
     "text": [
      "[ 0.00520706 -0.        ] 0.9996\n"
     ]
    }
   ],
   "source": [
    "i=3\n",
    "f_test = f_ij(x_i[1,:],x_j[i,0,:],real_params['k_g'],1)\n",
    "x_i_test = x_i[0,:]\n",
    "x_i_pf_test = x_i_test + f_test\n",
    "\n",
    "print(f_test,jnp.linalg.norm(x_i[1,:]-x_j[i,1,:]))\n"
   ]
  },
  {
   "cell_type": "code",
   "execution_count": 30,
   "metadata": {},
   "outputs": [
    {
     "data": {
      "text/plain": [
       "<matplotlib.legend.Legend at 0x7707b7f4afd0>"
      ]
     },
     "execution_count": 30,
     "metadata": {},
     "output_type": "execute_result"
    },
    {
     "data": {
      "image/png": "[encoded data removed]",
      "text/plain": [
       "<Figure size 640x480 with 1 Axes>"
      ]
     },
     "metadata": {},
     "output_type": "display_data"
    }
   ],
   "source": [
    "q_a =  interpolate_q_a(x_j[:,1,:],x_i[1,:],.8)\n",
    "q_p = interpolate_q_p(x_j[:,1,:],x_i[1,:],.8)\n",
    "\n",
    "# #plt.scatter(x_i_pf_test[0],x_i_pf_test[1],label='x_i_pf',color = 'purple')\n",
    "# plt.scatter(q_p[0,0],q_p[0,1],label='q_p0',color = 'black')\n",
    "# plt.scatter(q_p[1,0],q_p[1,1],label='q_p1',color = 'black')\n",
    "# plt.scatter(q_p[2,0],q_p[2,1],label='q_p2',color = 'black')\n",
    "# plt.scatter(q_p[3,0],q_p[3,1],label='q_p3',color = 'black')\n",
    "\n",
    "# plt.scatter(q_a[0,0],q_a[0,1],label='q_a0',color = 'blue')\n",
    "# plt.scatter(q_a[1,0],q_a[1,1],label='q_a1',color = 'blue')\n",
    "# plt.scatter(q_a[2,0],q_a[2,1],label='q_a2',color = 'blue')\n",
    "# plt.scatter(q_a[3,0],q_a[3,1],label='q_a3',color = 'blue')\n",
    "\n",
    "plt.scatter(x_i[1,0],x_i[1,1],label='x_i')\n",
    "plt.scatter(q_p[:,0],q_p[:,1],label='q_p',color = 'black')\n",
    "plt.scatter(q_a[:,0],q_a[:,1],label='q_a')\n",
    "plt.scatter(x_j[:,1,0],x_j[:,1,1],label='x_j')\n",
    "plt.scatter(x_cm[:,1,0],x_cm[:,1,1],label='x_cm')\n",
    "plt.legend()"
   ]
  },
  {
   "cell_type": "code",
   "execution_count": 34,
   "metadata": {},
   "outputs": [
    {
     "name": "stdout",
     "output_type": "stream",
     "text": [
      "Epoch 000:  Loss: 0.0e+00,  Params Err.: 0.0e+00, y0 error: 0.0e+00, Params Norm: 2.2e+01, iParams Err.: 0.0e+00, iParams Norm: 0.0e+00, \n",
      "Epoch 020:  Loss: 0.0e+00,  Params Err.: 0.0e+00, y0 error: 0.0e+00, Params Norm: 2.2e+01, iParams Err.: 0.0e+00, iParams Norm: 0.0e+00, \n",
      "Epoch 040:  Loss: 0.0e+00,  Params Err.: 0.0e+00, y0 error: 0.0e+00, Params Norm: 2.2e+01, iParams Err.: 0.0e+00, iParams Norm: 0.0e+00, \n",
      "Epoch 060:  Loss: 0.0e+00,  Params Err.: 0.0e+00, y0 error: 0.0e+00, Params Norm: 2.2e+01, iParams Err.: 0.0e+00, iParams Norm: 0.0e+00, \n",
      "Epoch 080:  Loss: 0.0e+00,  Params Err.: 0.0e+00, y0 error: 0.0e+00, Params Norm: 2.2e+01, iParams Err.: 0.0e+00, iParams Norm: 0.0e+00, \n",
      "Epoch 100:  Loss: 0.0e+00,  Params Err.: 0.0e+00, y0 error: 0.0e+00, Params Norm: 2.2e+01, iParams Err.: 0.0e+00, iParams Norm: 0.0e+00, \n",
      "Epoch 120:  Loss: 0.0e+00,  Params Err.: 0.0e+00, y0 error: 0.0e+00, Params Norm: 2.2e+01, iParams Err.: 0.0e+00, iParams Norm: 0.0e+00, \n",
      "Epoch 140:  Loss: 0.0e+00,  Params Err.: 0.0e+00, y0 error: 0.0e+00, Params Norm: 2.2e+01, iParams Err.: 0.0e+00, iParams Norm: 0.0e+00, \n",
      "Epoch 160:  Loss: 0.0e+00,  Params Err.: 0.0e+00, y0 error: 0.0e+00, Params Norm: 2.2e+01, iParams Err.: 0.0e+00, iParams Norm: 0.0e+00, \n",
      "Epoch 180:  Loss: 0.0e+00,  Params Err.: 0.0e+00, y0 error: 0.0e+00, Params Norm: 2.2e+01, iParams Err.: 0.0e+00, iParams Norm: 0.0e+00, \n",
      "Epoch 199:  Loss: 0.0e+00,  Params Err.: 0.0e+00, y0 error: 0.0e+00, Params Norm: 2.2e+01, iParams Err.: 0.0e+00, iParams Norm: 0.0e+00, \n",
      "True params:  {'nu': 15.0, 'm': 1.0, 'l_g': 1.0, 'l_p': 1.0, 'k_g': 13.0, 'k_a': 9.0, 'k_p': 2.0, 'eta': 0.5}\n",
      "Found params:  {'eta': Array(0.5, dtype=float32), 'k_a': Array(9., dtype=float32), 'k_g': Array(13., dtype=float32), 'k_p': Array(2., dtype=float32), 'l_g': Array(1., dtype=float32), 'l_p': Array(1., dtype=float32), 'm': Array(1., dtype=float32), 'nu': Array(15., dtype=float32)}\n"
     ]
    }
   ],
   "source": [
    "_ = train_adoptODE(dataset)\n",
    "print('True params: ', dataset.params)\n",
    "print('Found params: ', dataset.params_train)"
   ]
  },
  {
   "cell_type": "code",
   "execution_count": 46,
   "metadata": {},
   "outputs": [],
   "source": [
    "reset_every = 50\n",
    "t_reset_idcs = tuple([\n",
    "    reset_every * i\n",
    "    for i in range(int(np.ceil((len(t_evals) - 1) / reset_every)))\n",
    "])"
   ]
  },
  {
   "cell_type": "code",
   "execution_count": 58,
   "metadata": {},
   "outputs": [],
   "source": [
    "nan_array1 = jnp.full((1, 2000), 1.)\n",
    "nan_array2 = jnp.full((1, 2000), 1.)\n",
    "\n",
    "\n",
    "kwargs_adoptODE = {'lr':3e-2, 'epochs':200,'N_backups':1,\n",
    "                   'lower_b_y0':{'x1':y0['x1'],'x2':y0['x2'],'y1':y0['y1']-0.1*y0['y1'],'y2':y0['y2']-0.1*y0['y2'] },\n",
    "                   'upper_b_y0':{'x1':y0['x1'],'x2':y0['x2'],'y1':y0['y1']+0.1*y0['y1'],'y2':y0['y2']+0.1*y0['y2'] },\n",
    "                   }#'lower_b': real_params,\n",
    "                   #'upper_b': real_params}\n",
    "\n",
    "targets = {\"x1\":x_i[:,0].reshape((1,2000)),'x2':x_i[:,1].reshape((1,2000)),'y1':nan_array1,'y2':nan_array2}\n",
    "dataset2 = dataset_adoptODE(define_system,\n",
    "                                targets,\n",
    "                                t_evals, \n",
    "                                kwargs_sys,\n",
    "                                kwargs_adoptODE\n",
    "                                )"
   ]
  },
  {
   "cell_type": "code",
   "execution_count": 59,
   "metadata": {},
   "outputs": [
    {
     "name": "stdout",
     "output_type": "stream",
     "text": [
      "Epoch 000:  Loss: 2.0e-04,  Params Err.: nan, y0 error: nan, Params Norm: 2.2e+01, iParams Err.: 0.0e+00, iParams Norm: 0.0e+00, \n",
      "Epoch 020:  Loss: 3.2e-05,  Params Err.: nan, y0 error: nan, Params Norm: 2.2e+01, iParams Err.: 0.0e+00, iParams Norm: 0.0e+00, \n",
      "Epoch 040:  Loss: 1.5e-05,  Params Err.: nan, y0 error: nan, Params Norm: 2.3e+01, iParams Err.: 0.0e+00, iParams Norm: 0.0e+00, \n",
      "Epoch 060:  Loss: 7.4e-06,  Params Err.: nan, y0 error: nan, Params Norm: 2.4e+01, iParams Err.: 0.0e+00, iParams Norm: 0.0e+00, \n",
      "Epoch 080:  Loss: 3.7e-06,  Params Err.: nan, y0 error: nan, Params Norm: 2.4e+01, iParams Err.: 0.0e+00, iParams Norm: 0.0e+00, \n",
      "Epoch 100:  Loss: 2.0e-06,  Params Err.: nan, y0 error: nan, Params Norm: 2.5e+01, iParams Err.: 0.0e+00, iParams Norm: 0.0e+00, \n",
      "Epoch 120:  Loss: 9.5e-07,  Params Err.: nan, y0 error: nan, Params Norm: 2.5e+01, iParams Err.: 0.0e+00, iParams Norm: 0.0e+00, \n",
      "Epoch 140:  Loss: 3.9e-07,  Params Err.: nan, y0 error: nan, Params Norm: 2.6e+01, iParams Err.: 0.0e+00, iParams Norm: 0.0e+00, \n",
      "Epoch 160:  Loss: 1.9e-07,  Params Err.: nan, y0 error: nan, Params Norm: 2.5e+01, iParams Err.: 0.0e+00, iParams Norm: 0.0e+00, \n",
      "Epoch 180:  Loss: 5.3e-08,  Params Err.: nan, y0 error: nan, Params Norm: 2.5e+01, iParams Err.: 0.0e+00, iParams Norm: 0.0e+00, \n",
      "Epoch 199:  Loss: 2.5e-08,  Params Err.: nan, y0 error: nan, Params Norm: 2.5e+01, iParams Err.: 0.0e+00, iParams Norm: 0.0e+00, \n",
      "Found params:  {'eta': Array(0.5036806, dtype=float32), 'k_a': Array(5.427089, dtype=float32), 'k_g': Array(16.395273, dtype=float32), 'k_p': Array(2.4288735, dtype=float32), 'l_g': Array(1.0259829, dtype=float32), 'l_p': Array(0.03370035, dtype=float32), 'm': Array(1.0621147, dtype=float32), 'nu': Array(18.393852, dtype=float32)}\n"
     ]
    }
   ],
   "source": [
    "_ = train_adoptODE(dataset2)\n",
    "\n",
    "print('Found params: ', dataset2.params_train)"
   ]
  },
  {
   "cell_type": "code",
   "execution_count": 60,
   "metadata": {},
   "outputs": [
    {
     "data": {
      "text/plain": [
       "<matplotlib.legend.Legend at 0x7707315e0430>"
      ]
     },
     "execution_count": 60,
     "metadata": {},
     "output_type": "execute_result"
    },
    {
     "data": {
      "image/png": "[encoded data removed]",
      "text/plain": [
       "<Figure size 640x480 with 1 Axes>"
      ]
     },
     "metadata": {},
     "output_type": "display_data"
    }
   ],
   "source": [
    "plt.plot(dataset2.ys_sol['x1'][0,0:],linewidth = 5,label= 'fitted trajectory')\n",
    "plt.plot(x_i[0:,0],label = 'data')\n",
    "plt.legend()"
   ]
  },
  {
   "cell_type": "code",
   "execution_count": null,
   "metadata": {},
   "outputs": [],
   "source": []
  },
  {
   "cell_type": "code",
   "execution_count": null,
   "metadata": {},
   "outputs": [],
   "source": []
  },
  {
   "cell_type": "code",
   "execution_count": null,
   "metadata": {},
   "outputs": [],
   "source": []
  }
 ],
 "metadata": {
  "kernelspec": {
   "display_name": ".adoptodevenv",
   "language": "python",
   "name": "python3"
  },
  "language_info": {
   "codemirror_mode": {
    "name": "ipython",
    "version": 3
   },
   "file_extension": ".py",
   "mimetype": "text/x-python",
   "name": "python",
   "nbconvert_exporter": "python",
   "pygments_lexer": "ipython3",
   "version": "3.9.13"
  }
 },
 "nbformat": 4,
 "nbformat_minor": 2
}
