{
 "cells": [
  {
   "cell_type": "code",
   "execution_count": 24,
   "metadata": {},
   "outputs": [],
   "source": [
    "import jax.numpy as jnp\n",
    "from jax import jit\n",
    "from jax.flatten_util import ravel_pytree\n",
    "\n",
    "import numpy as np\n",
    "import scipy\n",
    "import matplotlib.pyplot as plt\n",
    "\n",
    "\n",
    "from adoptODE import train_adoptODE, simple_simulation\n",
    "from mechanics import *\n"
   ]
  },
  {
   "cell_type": "code",
   "execution_count": 10,
   "metadata": {},
   "outputs": [],
   "source": [
    "def define_system(**kwargs_sys):\n",
    "    \n",
    "    def gen_y0():\n",
    "        \n",
    "        return {'x':x0, 'z':z0}\n",
    "\n",
    "    def gen_params():\n",
    "        d = d_0 + np.random.rand()*d_max\n",
    "        f = f_0 + np.random.rand()*f_max\n",
    "\n",
    "        return {'d':d, 'f':f}, {}, {}\n",
    "        \n",
    "    @jit\n",
    "    def eom(xy, t, params, iparams, exparams):\n",
    "        x_cm = kwargs_sys['x_cm']\n",
    "        x_j = kwargs_sys['x_j']\n",
    "        l_a = kwargs_sys['l_a']\n",
    "        x = jnp.array([xy['x1'], xy['x2']])\n",
    "\n",
    "        # Interpolating splines make in more efficient\n",
    "        if t>0 or cnt > cnt_pref:\n",
    "            x_j_int = interpolate_spline(x_j,t)\n",
    "            x_cm_int = interpolate_spline(x_cm,t)\n",
    "            l_a_int = interpolate_spline(l_a,t)\n",
    "        \n",
    "        f = total_force(x, x_j_int, x_cm_int, l_a_int, t, params)\n",
    "\n",
    "        dx1 = xy['y1']\n",
    "        dx2 = xy['y2']\n",
    "        dy1 = 1/m * (f[1] - nu * xy['y1'])\n",
    "        dy2 = 1/m * (f[2] - nu * xy['y2'])\n",
    "        return {'x1':dx1, 'x2':dx2, 'y1':dy1, 'y2':dy2}\n",
    "\n",
    "    @jit\n",
    "    def loss(xy, params, iparams, \n",
    "                    exparams, targets):\n",
    "        x1 = xy['x1']\n",
    "        x2 = xy['x2']\n",
    "        t_x1 = targets['x1']\n",
    "        t_x2 = targets['x2']\n",
    "        return jnp.mean((x1-t_x1)**2 + (x1-t_x1)**2)\n",
    "\n",
    "    return eom, loss, gen_params, gen_y0, {}"
   ]
  },
  {
   "cell_type": "code",
   "execution_count": null,
   "metadata": {},
   "outputs": [],
   "source": []
  }
 ],
 "metadata": {
  "kernelspec": {
   "display_name": ".adoptodevenv",
   "language": "python",
   "name": "python3"
  },
  "language_info": {
   "codemirror_mode": {
    "name": "ipython",
    "version": 3
   },
   "file_extension": ".py",
   "mimetype": "text/x-python",
   "name": "python",
   "nbconvert_exporter": "python",
   "pygments_lexer": "ipython3",
   "version": "3.9.13"
  }
 },
 "nbformat": 4,
 "nbformat_minor": 2
}
